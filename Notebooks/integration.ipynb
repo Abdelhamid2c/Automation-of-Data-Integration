{
 "cells": [
  {
   "cell_type": "code",
   "execution_count": 1,
   "metadata": {},
   "outputs": [],
   "source": [
    "import pandas as pd"
   ]
  },
  {
   "cell_type": "code",
   "execution_count": 2,
   "metadata": {},
   "outputs": [
    {
     "data": {
      "application/vnd.microsoft.datawrangler.viewer.v0+json": {
       "columns": [
        {
         "name": "index",
         "rawType": "int64",
         "type": "integer"
        },
        {
         "name": "Material",
         "rawType": "object",
         "type": "string"
        },
        {
         "name": "Change Number",
         "rawType": "int64",
         "type": "integer"
        },
        {
         "name": "Product number",
         "rawType": "object",
         "type": "string"
        },
        {
         "name": "suffix",
         "rawType": "object",
         "type": "string"
        },
        {
         "name": "Counter",
         "rawType": "int64",
         "type": "integer"
        },
        {
         "name": "Composition No",
         "rawType": "int64",
         "type": "integer"
        },
        {
         "name": "Wire kind (code)",
         "rawType": "object",
         "type": "string"
        },
        {
         "name": "Wire size (code)",
         "rawType": "float64",
         "type": "float"
        },
        {
         "name": "Wire color (code)",
         "rawType": "object",
         "type": "string"
        },
        {
         "name": "Terminal No A",
         "rawType": "int64",
         "type": "integer"
        },
        {
         "name": "Terminal No B",
         "rawType": "int64",
         "type": "integer"
        },
        {
         "name": "Terminal position 1",
         "rawType": "int64",
         "type": "integer"
        },
        {
         "name": "Terminal position 2",
         "rawType": "int64",
         "type": "integer"
        },
        {
         "name": "Circuit flag A",
         "rawType": "float64",
         "type": "float"
        },
        {
         "name": "Circuit flag B",
         "rawType": "float64",
         "type": "float"
        }
       ],
       "conversionMethod": "pd.DataFrame",
       "ref": "fa539627-cd0e-4882-892d-ba1106412c13",
       "rows": [
        [
         "0",
         "S006205680",
         "500000253016",
         "240100339V",
         "00 0",
         "64",
         "624",
         "C97",
         "69.0",
         "70",
         "79",
         "47",
         "0",
         "0",
         "92.0",
         "92.0"
        ],
        [
         "1",
         "S006205680",
         "500000253016",
         "240100502V",
         "A0 0",
         "81",
         "624",
         "C97",
         "69.0",
         "70",
         "79",
         "47",
         "0",
         "0",
         "92.0",
         "92.0"
        ],
        [
         "2",
         "S006205680",
         "500000253016",
         "240100622V",
         "00 0",
         "72",
         "624",
         "C97",
         "69.0",
         "70",
         "79",
         "47",
         "0",
         "0",
         "92.0",
         "92.0"
        ],
        [
         "3",
         "S006205680",
         "500000253016",
         "240100991V",
         "A0 0",
         "94",
         "624",
         "C97",
         "69.0",
         "70",
         "79",
         "47",
         "0",
         "0",
         "92.0",
         "92.0"
        ],
        [
         "4",
         "S006205680",
         "500000253016",
         "240101080V",
         "A0 0",
         "93",
         "624",
         "C97",
         "69.0",
         "70",
         "79",
         "47",
         "0",
         "0",
         "92.0",
         "92.0"
        ]
       ],
       "shape": {
        "columns": 15,
        "rows": 5
       }
      },
      "text/html": [
       "<div>\n",
       "<style scoped>\n",
       "    .dataframe tbody tr th:only-of-type {\n",
       "        vertical-align: middle;\n",
       "    }\n",
       "\n",
       "    .dataframe tbody tr th {\n",
       "        vertical-align: top;\n",
       "    }\n",
       "\n",
       "    .dataframe thead th {\n",
       "        text-align: right;\n",
       "    }\n",
       "</style>\n",
       "<table border=\"1\" class=\"dataframe\">\n",
       "  <thead>\n",
       "    <tr style=\"text-align: right;\">\n",
       "      <th></th>\n",
       "      <th>Material</th>\n",
       "      <th>Change Number</th>\n",
       "      <th>Product number</th>\n",
       "      <th>suffix</th>\n",
       "      <th>Counter</th>\n",
       "      <th>Composition No</th>\n",
       "      <th>Wire kind (code)</th>\n",
       "      <th>Wire size (code)</th>\n",
       "      <th>Wire color (code)</th>\n",
       "      <th>Terminal No A</th>\n",
       "      <th>Terminal No B</th>\n",
       "      <th>Terminal position 1</th>\n",
       "      <th>Terminal position 2</th>\n",
       "      <th>Circuit flag A</th>\n",
       "      <th>Circuit flag B</th>\n",
       "    </tr>\n",
       "  </thead>\n",
       "  <tbody>\n",
       "    <tr>\n",
       "      <th>0</th>\n",
       "      <td>S006205680</td>\n",
       "      <td>500000253016</td>\n",
       "      <td>240100339V</td>\n",
       "      <td>00 0</td>\n",
       "      <td>64</td>\n",
       "      <td>624</td>\n",
       "      <td>C97</td>\n",
       "      <td>69.0</td>\n",
       "      <td>70</td>\n",
       "      <td>79</td>\n",
       "      <td>47</td>\n",
       "      <td>0</td>\n",
       "      <td>0</td>\n",
       "      <td>92.0</td>\n",
       "      <td>92.0</td>\n",
       "    </tr>\n",
       "    <tr>\n",
       "      <th>1</th>\n",
       "      <td>S006205680</td>\n",
       "      <td>500000253016</td>\n",
       "      <td>240100502V</td>\n",
       "      <td>A0 0</td>\n",
       "      <td>81</td>\n",
       "      <td>624</td>\n",
       "      <td>C97</td>\n",
       "      <td>69.0</td>\n",
       "      <td>70</td>\n",
       "      <td>79</td>\n",
       "      <td>47</td>\n",
       "      <td>0</td>\n",
       "      <td>0</td>\n",
       "      <td>92.0</td>\n",
       "      <td>92.0</td>\n",
       "    </tr>\n",
       "    <tr>\n",
       "      <th>2</th>\n",
       "      <td>S006205680</td>\n",
       "      <td>500000253016</td>\n",
       "      <td>240100622V</td>\n",
       "      <td>00 0</td>\n",
       "      <td>72</td>\n",
       "      <td>624</td>\n",
       "      <td>C97</td>\n",
       "      <td>69.0</td>\n",
       "      <td>70</td>\n",
       "      <td>79</td>\n",
       "      <td>47</td>\n",
       "      <td>0</td>\n",
       "      <td>0</td>\n",
       "      <td>92.0</td>\n",
       "      <td>92.0</td>\n",
       "    </tr>\n",
       "    <tr>\n",
       "      <th>3</th>\n",
       "      <td>S006205680</td>\n",
       "      <td>500000253016</td>\n",
       "      <td>240100991V</td>\n",
       "      <td>A0 0</td>\n",
       "      <td>94</td>\n",
       "      <td>624</td>\n",
       "      <td>C97</td>\n",
       "      <td>69.0</td>\n",
       "      <td>70</td>\n",
       "      <td>79</td>\n",
       "      <td>47</td>\n",
       "      <td>0</td>\n",
       "      <td>0</td>\n",
       "      <td>92.0</td>\n",
       "      <td>92.0</td>\n",
       "    </tr>\n",
       "    <tr>\n",
       "      <th>4</th>\n",
       "      <td>S006205680</td>\n",
       "      <td>500000253016</td>\n",
       "      <td>240101080V</td>\n",
       "      <td>A0 0</td>\n",
       "      <td>93</td>\n",
       "      <td>624</td>\n",
       "      <td>C97</td>\n",
       "      <td>69.0</td>\n",
       "      <td>70</td>\n",
       "      <td>79</td>\n",
       "      <td>47</td>\n",
       "      <td>0</td>\n",
       "      <td>0</td>\n",
       "      <td>92.0</td>\n",
       "      <td>92.0</td>\n",
       "    </tr>\n",
       "  </tbody>\n",
       "</table>\n",
       "</div>"
      ],
      "text/plain": [
       "     Material  Change Number Product number suffix  Counter  Composition No  \\\n",
       "0  S006205680   500000253016     240100339V   00 0       64             624   \n",
       "1  S006205680   500000253016     240100502V   A0 0       81             624   \n",
       "2  S006205680   500000253016     240100622V   00 0       72             624   \n",
       "3  S006205680   500000253016     240100991V   A0 0       94             624   \n",
       "4  S006205680   500000253016     240101080V   A0 0       93             624   \n",
       "\n",
       "  Wire kind (code)  Wire size (code) Wire color (code)  Terminal No A  \\\n",
       "0              C97              69.0                70             79   \n",
       "1              C97              69.0                70             79   \n",
       "2              C97              69.0                70             79   \n",
       "3              C97              69.0                70             79   \n",
       "4              C97              69.0                70             79   \n",
       "\n",
       "   Terminal No B  Terminal position 1  Terminal position 2  Circuit flag A  \\\n",
       "0             47                    0                    0            92.0   \n",
       "1             47                    0                    0            92.0   \n",
       "2             47                    0                    0            92.0   \n",
       "3             47                    0                    0            92.0   \n",
       "4             47                    0                    0            92.0   \n",
       "\n",
       "   Circuit flag B  \n",
       "0            92.0  \n",
       "1            92.0  \n",
       "2            92.0  \n",
       "3            92.0  \n",
       "4            92.0  "
      ]
     },
     "execution_count": 2,
     "metadata": {},
     "output_type": "execute_result"
    }
   ],
   "source": [
    "df_ypp_cae = pd.read_excel('../Data/YPP_CAE 1 (2).XLSX')\n",
    "df_ypp_cae.head(5)"
   ]
  },
  {
   "cell_type": "code",
   "execution_count": 3,
   "metadata": {},
   "outputs": [
    {
     "data": {
      "text/plain": [
       "Index(['Material', 'Change Number', 'Product number', 'suffix', 'Counter',\n",
       "       'Composition No', 'Wire kind (code)', 'Wire size (code)',\n",
       "       'Wire color (code)', 'Terminal No A', 'Terminal No B',\n",
       "       'Terminal position 1', 'Terminal position 2', 'Circuit flag A',\n",
       "       'Circuit flag B'],\n",
       "      dtype='object')"
      ]
     },
     "execution_count": 3,
     "metadata": {},
     "output_type": "execute_result"
    }
   ],
   "source": [
    "df_ypp_cae.columns"
   ]
  },
  {
   "cell_type": "markdown",
   "metadata": {},
   "source": [
    "#### Pivot Table (YPP_CAE)"
   ]
  },
  {
   "cell_type": "code",
   "execution_count": 4,
   "metadata": {},
   "outputs": [],
   "source": [
    "df_ypp_cae_pivot = pd.pivot_table(df_ypp_cae, values = 'Counter',index = ['Material','Composition No'],\n",
    "                                columns = 'Product number', aggfunc = 'count', fill_value = ' ')"
   ]
  },
  {
   "cell_type": "code",
   "execution_count": 5,
   "metadata": {},
   "outputs": [],
   "source": [
    "df_ypp_cae_pivot.reset_index(inplace=True)"
   ]
  },
  {
   "cell_type": "code",
   "execution_count": 6,
   "metadata": {},
   "outputs": [
    {
     "data": {
      "text/plain": [
       "Product number\n",
       "Material          object\n",
       "Composition No     int64\n",
       "240100339V        object\n",
       "240100502V        object\n",
       "240100622V        object\n",
       "240100991V        object\n",
       "240101080V        object\n",
       "240101094V        object\n",
       "240101713V        object\n",
       "240102007V        object\n",
       "240102054V        object\n",
       "240102116V        object\n",
       "240102393V        object\n",
       "240102646V        object\n",
       "240102820V        object\n",
       "240103091V        object\n",
       "240103178V        object\n",
       "240103678V        object\n",
       "240103766V        object\n",
       "240104500V        object\n",
       "240104640V        object\n",
       "240105077V        object\n",
       "240105109V        object\n",
       "240105110V        object\n",
       "240105246V        object\n",
       "240106497V        object\n",
       "240106548V        object\n",
       "240107120V        object\n",
       "240107216V        object\n",
       "240107622V        object\n",
       "240107837V        object\n",
       "240108098V        object\n",
       "240108155V        object\n",
       "240108592V        object\n",
       "240108849V        object\n",
       "240109138V        object\n",
       "240109407V        object\n",
       "240109580V        object\n",
       "dtype: object"
      ]
     },
     "execution_count": 6,
     "metadata": {},
     "output_type": "execute_result"
    }
   ],
   "source": [
    "df_ypp_cae_pivot.dtypes"
   ]
  },
  {
   "cell_type": "code",
   "execution_count": 7,
   "metadata": {},
   "outputs": [],
   "source": [
    "df_ypp_cae_pivot[df_ypp_cae_pivot.columns[2:]] = df_ypp_cae_pivot[df_ypp_cae_pivot.columns[2:]].apply(pd.to_numeric, errors='coerce').fillna(0).astype(int)"
   ]
  },
  {
   "cell_type": "code",
   "execution_count": 8,
   "metadata": {},
   "outputs": [],
   "source": [
    "PN_columns = df_ypp_cae_pivot.columns[2:]\n",
    "PN_columns = list(PN_columns)"
   ]
  },
  {
   "cell_type": "code",
   "execution_count": 9,
   "metadata": {},
   "outputs": [
    {
     "data": {
      "text/plain": [
       "0      624\n",
       "1      625\n",
       "2      656\n",
       "3      655\n",
       "4      446\n",
       "      ... \n",
       "423    256\n",
       "424    347\n",
       "425    112\n",
       "426    113\n",
       "427    114\n",
       "Name: Composition No, Length: 428, dtype: int64"
      ]
     },
     "execution_count": 9,
     "metadata": {},
     "output_type": "execute_result"
    }
   ],
   "source": [
    "df_ypp_cae_pivot['Composition No']"
   ]
  },
  {
   "cell_type": "code",
   "execution_count": 10,
   "metadata": {},
   "outputs": [
    {
     "data": {
      "text/plain": [
       "Composition No\n",
       "151    2\n",
       "625    1\n",
       "656    1\n",
       "655    1\n",
       "446    1\n",
       "      ..\n",
       "291    1\n",
       "466    1\n",
       "794    1\n",
       "90     1\n",
       "624    1\n",
       "Name: count, Length: 427, dtype: int64"
      ]
     },
     "execution_count": 10,
     "metadata": {},
     "output_type": "execute_result"
    }
   ],
   "source": [
    "df_ypp_cae_pivot['Composition No'].value_counts()"
   ]
  },
  {
   "cell_type": "markdown",
   "metadata": {},
   "source": [
    "#### Max Wire List"
   ]
  },
  {
   "cell_type": "code",
   "execution_count": null,
   "metadata": {},
   "outputs": [
    {
     "name": "stderr",
     "output_type": "stream",
     "text": [
      "c:\\Users\\user\\anaconda3\\envs\\rpa_env\\Lib\\site-packages\\openpyxl\\styles\\stylesheet.py:237: UserWarning: Workbook contains no default style, apply openpyxl's default\n",
      "  warn(\"Workbook contains no default style, apply openpyxl's default\")\n"
     ]
    },
    {
     "data": {
      "application/vnd.microsoft.datawrangler.viewer.v0+json": {
       "columns": [
        {
         "name": "index",
         "rawType": "int64",
         "type": "integer"
        },
        {
         "name": "Customer Module/Option",
         "rawType": "object",
         "type": "string"
        },
        {
         "name": "Customer Module/Option Function",
         "rawType": "float64",
         "type": "float"
        },
        {
         "name": "Wire Type",
         "rawType": "object",
         "type": "string"
        },
        {
         "name": "Wire Customer Name",
         "rawType": "int64",
         "type": "integer"
        },
        {
         "name": "Wire Internal Name",
         "rawType": "object",
         "type": "string"
        },
        {
         "name": "Initial Wire Length[Twisted]",
         "rawType": "float64",
         "type": "float"
        },
        {
         "name": "Final Wire Length",
         "rawType": "int64",
         "type": "integer"
        },
        {
         "name": "Wire Color",
         "rawType": "object",
         "type": "string"
        },
        {
         "name": "Wire Kind",
         "rawType": "object",
         "type": "string"
        },
        {
         "name": "Wire Cross-Section",
         "rawType": "float64",
         "type": "float"
        },
        {
         "name": "Wire Spec.",
         "rawType": "object",
         "type": "string"
        },
        {
         "name": "Wire Part Number",
         "rawType": "object",
         "type": "unknown"
        },
        {
         "name": "Multicore Name",
         "rawType": "object",
         "type": "unknown"
        },
        {
         "name": "Multicore Part Number",
         "rawType": "object",
         "type": "unknown"
        },
        {
         "name": "Pitch",
         "rawType": "object",
         "type": "unknown"
        },
        {
         "name": "Multicore Note",
         "rawType": "float64",
         "type": "float"
        },
        {
         "name": "From Connector (long name)",
         "rawType": "float64",
         "type": "float"
        },
        {
         "name": "From Connector (Short Name)",
         "rawType": "object",
         "type": "string"
        },
        {
         "name": "From X Internal name",
         "rawType": "object",
         "type": "string"
        },
        {
         "name": "Open end_1 [mm]",
         "rawType": "float64",
         "type": "float"
        },
        {
         "name": "From Sequence no.",
         "rawType": "float64",
         "type": "float"
        },
        {
         "name": "From Splice Protection",
         "rawType": "object",
         "type": "unknown"
        },
        {
         "name": "From Splice Base Wire",
         "rawType": "float64",
         "type": "float"
        },
        {
         "name": "From Cavity",
         "rawType": "object",
         "type": "string"
        },
        {
         "name": "From Terminal",
         "rawType": "object",
         "type": "string"
        },
        {
         "name": "Striping Length (mm)",
         "rawType": "float64",
         "type": "float"
        },
        {
         "name": "From Seal by Terminal",
         "rawType": "float64",
         "type": "float"
        },
        {
         "name": "From Marking",
         "rawType": "float64",
         "type": "float"
        },
        {
         "name": "From Connector Material",
         "rawType": "object",
         "type": "string"
        },
        {
         "name": "From Connector Coordinate",
         "rawType": "object",
         "type": "string"
        },
        {
         "name": "From Multiple Wire/Cav",
         "rawType": "object",
         "type": "string"
        },
        {
         "name": "From Crimping Type",
         "rawType": "object",
         "type": "string"
        },
        {
         "name": "From Double Crimp. With Wire(s)",
         "rawType": "object",
         "type": "unknown"
        },
        {
         "name": "From Wire End Components",
         "rawType": "float64",
         "type": "float"
        },
        {
         "name": "From Eyelet Protection",
         "rawType": "float64",
         "type": "float"
        },
        {
         "name": "To Connector (long name)",
         "rawType": "float64",
         "type": "float"
        },
        {
         "name": "To Connector (Short Name)",
         "rawType": "object",
         "type": "string"
        },
        {
         "name": "To X Internal name",
         "rawType": "object",
         "type": "string"
        },
        {
         "name": "Open end_2 [mm]",
         "rawType": "float64",
         "type": "float"
        },
        {
         "name": "To Sequence no.",
         "rawType": "float64",
         "type": "float"
        },
        {
         "name": "To Splice Protection",
         "rawType": "object",
         "type": "unknown"
        },
        {
         "name": "To Splice Base Wire",
         "rawType": "float64",
         "type": "float"
        },
        {
         "name": "To Cavity",
         "rawType": "object",
         "type": "string"
        },
        {
         "name": "To Terminal",
         "rawType": "object",
         "type": "unknown"
        },
        {
         "name": "Striping Length (mm).1",
         "rawType": "float64",
         "type": "float"
        },
        {
         "name": "To Seal by Terminal",
         "rawType": "float64",
         "type": "float"
        },
        {
         "name": "To Marking",
         "rawType": "float64",
         "type": "float"
        },
        {
         "name": "To Connector Material",
         "rawType": "object",
         "type": "string"
        },
        {
         "name": "To Connector Coordinate",
         "rawType": "object",
         "type": "string"
        },
        {
         "name": "To Multiple Wire/Cav",
         "rawType": "object",
         "type": "unknown"
        },
        {
         "name": "To Crimping Type",
         "rawType": "object",
         "type": "unknown"
        },
        {
         "name": "To Double Crimp. With Wire(s)",
         "rawType": "object",
         "type": "unknown"
        },
        {
         "name": "To Wire End Components",
         "rawType": "float64",
         "type": "float"
        },
        {
         "name": "To Eyelet Protection",
         "rawType": "float64",
         "type": "float"
        },
        {
         "name": "240100339V:00000",
         "rawType": "object",
         "type": "unknown"
        },
        {
         "name": "240100502V:A0000",
         "rawType": "object",
         "type": "unknown"
        },
        {
         "name": "240100622V:00000",
         "rawType": "object",
         "type": "unknown"
        },
        {
         "name": "240100991V:A0000",
         "rawType": "object",
         "type": "string"
        },
        {
         "name": "240101080V:A0000",
         "rawType": "object",
         "type": "string"
        },
        {
         "name": "240101094V:00000",
         "rawType": "object",
         "type": "unknown"
        },
        {
         "name": "240101713V:A0000",
         "rawType": "object",
         "type": "unknown"
        },
        {
         "name": "240102007V:A0000",
         "rawType": "object",
         "type": "unknown"
        },
        {
         "name": "240102054V:A0000",
         "rawType": "object",
         "type": "unknown"
        },
        {
         "name": "240102116V:A0000",
         "rawType": "object",
         "type": "unknown"
        },
        {
         "name": "240102393V:A0000",
         "rawType": "object",
         "type": "unknown"
        },
        {
         "name": "240102646V:A0000",
         "rawType": "object",
         "type": "unknown"
        },
        {
         "name": "240102820V:00000",
         "rawType": "object",
         "type": "unknown"
        },
        {
         "name": "240103091V:A0000",
         "rawType": "object",
         "type": "unknown"
        },
        {
         "name": "240103178V:A0000",
         "rawType": "object",
         "type": "unknown"
        },
        {
         "name": "240103678V:A0000",
         "rawType": "object",
         "type": "unknown"
        },
        {
         "name": "240103766V:A0000",
         "rawType": "object",
         "type": "string"
        },
        {
         "name": "240104500V:A0000",
         "rawType": "object",
         "type": "unknown"
        },
        {
         "name": "240104640V:A0000",
         "rawType": "object",
         "type": "unknown"
        },
        {
         "name": "240105077V:A0000",
         "rawType": "object",
         "type": "unknown"
        },
        {
         "name": "240105109V:00000",
         "rawType": "object",
         "type": "string"
        },
        {
         "name": "240105110V:00000",
         "rawType": "object",
         "type": "unknown"
        },
        {
         "name": "240105246V:A0000",
         "rawType": "object",
         "type": "unknown"
        },
        {
         "name": "240106497V:A0000",
         "rawType": "object",
         "type": "unknown"
        },
        {
         "name": "240106548V:00000",
         "rawType": "object",
         "type": "string"
        },
        {
         "name": "240107120V:00000",
         "rawType": "object",
         "type": "string"
        },
        {
         "name": "240107216V:A0000",
         "rawType": "object",
         "type": "unknown"
        },
        {
         "name": "240107622V:00000",
         "rawType": "object",
         "type": "unknown"
        },
        {
         "name": "240107837V:00000",
         "rawType": "object",
         "type": "unknown"
        },
        {
         "name": "240108098V:A0000",
         "rawType": "object",
         "type": "unknown"
        },
        {
         "name": "240108155V:A0000",
         "rawType": "object",
         "type": "unknown"
        },
        {
         "name": "240108592V:A0000",
         "rawType": "object",
         "type": "unknown"
        },
        {
         "name": "240108849V:A0000",
         "rawType": "object",
         "type": "string"
        },
        {
         "name": "240109138V:00000",
         "rawType": "object",
         "type": "unknown"
        },
        {
         "name": "240109407V:00000",
         "rawType": "object",
         "type": "string"
        },
        {
         "name": "240109580V:A0000",
         "rawType": "object",
         "type": "unknown"
        }
       ],
       "conversionMethod": "pd.DataFrame",
       "ref": "55fcc305-a018-46ab-bf9d-9fce2d448b56",
       "rows": [
        [
         "0",
         "(FSE07 || HTS02)",
         null,
         "Single Wire",
         "1",
         "W0595",
         null,
         "760",
         "B/BR",
         "COFLRYB",
         "1.5",
         "COFLRYB-1.5",
         "180FW406538",
         null,
         null,
         null,
         null,
         null,
         "376-32A",
         "C34",
         null,
         null,
         null,
         null,
         "10",
         "7116428502",
         "5.0",
         null,
         null,
         "7219192930",
         "34 / F",
         "NO",
         "Single",
         null,
         null,
         null,
         null,
         "EMJ-A",
         "J636",
         null,
         null,
         "4309U5030",
         null,
         "L",
         null,
         null,
         null,
         null,
         "KS7478-0150",
         "26 / H",
         null,
         null,
         null,
         null,
         null,
         "X",
         null,
         "X",
         "X",
         "X",
         "X",
         null,
         "X",
         null,
         null,
         "X",
         null,
         "X",
         null,
         "X",
         "X",
         "X",
         "X",
         null,
         null,
         "X",
         "X",
         null,
         "X",
         "X",
         "X",
         "X",
         "X",
         "X",
         null,
         null,
         null,
         "X",
         "X",
         "X",
         "X"
        ],
        [
         "1",
         "ALL",
         null,
         "Purchased Part",
         "100",
         "W0445",
         "3040.0",
         "3040",
         "Y",
         "FLRYA",
         "0.35",
         "FLRYA-0.35",
         null,
         "CBL$7996",
         null,
         "SQ",
         "70.0",
         null,
         "1627AA",
         "C72",
         null,
         null,
         null,
         null,
         "1",
         "ASSY_TERMINAL",
         "5.0",
         null,
         null,
         "ASSY_418018681",
         "63 / W",
         "NO",
         "Single",
         null,
         null,
         null,
         null,
         "756AB",
         "C58",
         null,
         null,
         null,
         null,
         "11",
         "7196029002",
         "4.0",
         null,
         null,
         "72988956",
         "40 / P",
         "NO",
         "Single",
         null,
         null,
         null,
         "X",
         "X",
         "X",
         "X",
         "X",
         "X",
         "X",
         "X",
         "X",
         "X",
         "X",
         "X",
         "X",
         "X",
         "X",
         "X",
         "X",
         "X",
         "X",
         "X",
         "X",
         "X",
         "X",
         "X",
         "X",
         "X",
         "X",
         "X",
         "X",
         "X",
         "X",
         "X",
         "X",
         "X",
         "X",
         "X"
        ],
        [
         "2",
         "ALL",
         null,
         "Purchased Part",
         "101",
         "W0446",
         "3040.0",
         "3040",
         "L",
         "FLRYA",
         "0.35",
         "FLRYA-0.35",
         null,
         "CBL$7996",
         null,
         "SQ",
         "70.0",
         null,
         "1627AA",
         "C72",
         null,
         null,
         null,
         null,
         "2",
         "ASSY_TERMINAL",
         "5.0",
         null,
         null,
         "ASSY_418018681",
         "63 / W",
         "NO",
         "Single",
         null,
         null,
         null,
         null,
         "756AB",
         "C58",
         null,
         null,
         null,
         null,
         "10",
         "7196029002",
         "4.0",
         null,
         null,
         "72988956",
         "40 / P",
         "NO",
         "Single",
         null,
         null,
         null,
         "X",
         "X",
         "X",
         "X",
         "X",
         "X",
         "X",
         "X",
         "X",
         "X",
         "X",
         "X",
         "X",
         "X",
         "X",
         "X",
         "X",
         "X",
         "X",
         "X",
         "X",
         "X",
         "X",
         "X",
         "X",
         "X",
         "X",
         "X",
         "X",
         "X",
         "X",
         "X",
         "X",
         "X",
         "X",
         "X"
        ],
        [
         "3",
         "AVCAM",
         null,
         "Twisted Wire",
         "102",
         "W0455",
         "1665.0",
         "1635",
         "G/W",
         "COFLRYB",
         "0.35",
         "COFLRYB-0.35",
         "180FW406964",
         "CBL$845A",
         null,
         "25",
         "44.0",
         null,
         "600-32A",
         "C19",
         null,
         null,
         null,
         null,
         "17",
         "7195028702",
         "4.0",
         null,
         null,
         "7186066590",
         "13 / F",
         "YES",
         "Single",
         null,
         null,
         null,
         null,
         "E47GH-A",
         "J616",
         null,
         null,
         "4309U5030",
         null,
         "L",
         null,
         null,
         null,
         null,
         "KS7478-0150",
         "26 / L",
         null,
         null,
         null,
         null,
         null,
         null,
         "X",
         null,
         "X",
         "X",
         null,
         null,
         null,
         null,
         "X",
         null,
         "X",
         null,
         null,
         null,
         null,
         "X",
         null,
         "X",
         null,
         "X",
         null,
         null,
         null,
         "X",
         "X",
         null,
         null,
         null,
         null,
         null,
         null,
         "X",
         null,
         "X",
         null
        ],
        [
         "4",
         "ALL",
         null,
         "Single Wire",
         "1022",
         "W0550",
         null,
         "1010",
         "P/W",
         "COFLRYB",
         "0.35",
         "COFLRYB-0.35",
         "180FW406900",
         null,
         null,
         null,
         null,
         null,
         "756AC",
         "C47",
         null,
         null,
         null,
         null,
         "28",
         "7196029002",
         "4.0",
         null,
         null,
         "7298895730",
         "38 / J",
         "NO",
         "Single",
         null,
         null,
         null,
         null,
         "E60GX-A",
         "J624",
         null,
         null,
         "4309U5030",
         null,
         "L",
         null,
         null,
         null,
         null,
         "KS7478-0150",
         "31 / D",
         null,
         null,
         null,
         null,
         null,
         "X",
         "X",
         "X",
         "X",
         "X",
         "X",
         "X",
         "X",
         "X",
         "X",
         "X",
         "X",
         "X",
         "X",
         "X",
         "X",
         "X",
         "X",
         "X",
         "X",
         "X",
         "X",
         "X",
         "X",
         "X",
         "X",
         "X",
         "X",
         "X",
         "X",
         "X",
         "X",
         "X",
         "X",
         "X",
         "X"
        ]
       ],
       "shape": {
        "columns": 90,
        "rows": 5
       }
      },
      "text/html": [
       "<div>\n",
       "<style scoped>\n",
       "    .dataframe tbody tr th:only-of-type {\n",
       "        vertical-align: middle;\n",
       "    }\n",
       "\n",
       "    .dataframe tbody tr th {\n",
       "        vertical-align: top;\n",
       "    }\n",
       "\n",
       "    .dataframe thead th {\n",
       "        text-align: right;\n",
       "    }\n",
       "</style>\n",
       "<table border=\"1\" class=\"dataframe\">\n",
       "  <thead>\n",
       "    <tr style=\"text-align: right;\">\n",
       "      <th></th>\n",
       "      <th>Customer Module/Option</th>\n",
       "      <th>Customer Module/Option Function</th>\n",
       "      <th>Wire Type</th>\n",
       "      <th>Wire Customer Name</th>\n",
       "      <th>Wire Internal Name</th>\n",
       "      <th>Initial Wire Length[Twisted]</th>\n",
       "      <th>Final Wire Length</th>\n",
       "      <th>Wire Color</th>\n",
       "      <th>Wire Kind</th>\n",
       "      <th>Wire Cross-Section</th>\n",
       "      <th>...</th>\n",
       "      <th>240107216V:A0000</th>\n",
       "      <th>240107622V:00000</th>\n",
       "      <th>240107837V:00000</th>\n",
       "      <th>240108098V:A0000</th>\n",
       "      <th>240108155V:A0000</th>\n",
       "      <th>240108592V:A0000</th>\n",
       "      <th>240108849V:A0000</th>\n",
       "      <th>240109138V:00000</th>\n",
       "      <th>240109407V:00000</th>\n",
       "      <th>240109580V:A0000</th>\n",
       "    </tr>\n",
       "  </thead>\n",
       "  <tbody>\n",
       "    <tr>\n",
       "      <th>0</th>\n",
       "      <td>(FSE07 || HTS02)</td>\n",
       "      <td>NaN</td>\n",
       "      <td>Single Wire</td>\n",
       "      <td>1</td>\n",
       "      <td>W0595</td>\n",
       "      <td>NaN</td>\n",
       "      <td>760</td>\n",
       "      <td>B/BR</td>\n",
       "      <td>COFLRYB</td>\n",
       "      <td>1.50</td>\n",
       "      <td>...</td>\n",
       "      <td>X</td>\n",
       "      <td>X</td>\n",
       "      <td>X</td>\n",
       "      <td>NaN</td>\n",
       "      <td>NaN</td>\n",
       "      <td>NaN</td>\n",
       "      <td>X</td>\n",
       "      <td>X</td>\n",
       "      <td>X</td>\n",
       "      <td>X</td>\n",
       "    </tr>\n",
       "    <tr>\n",
       "      <th>1</th>\n",
       "      <td>ALL</td>\n",
       "      <td>NaN</td>\n",
       "      <td>Purchased Part</td>\n",
       "      <td>100</td>\n",
       "      <td>W0445</td>\n",
       "      <td>3040.0</td>\n",
       "      <td>3040</td>\n",
       "      <td>Y</td>\n",
       "      <td>FLRYA</td>\n",
       "      <td>0.35</td>\n",
       "      <td>...</td>\n",
       "      <td>X</td>\n",
       "      <td>X</td>\n",
       "      <td>X</td>\n",
       "      <td>X</td>\n",
       "      <td>X</td>\n",
       "      <td>X</td>\n",
       "      <td>X</td>\n",
       "      <td>X</td>\n",
       "      <td>X</td>\n",
       "      <td>X</td>\n",
       "    </tr>\n",
       "    <tr>\n",
       "      <th>2</th>\n",
       "      <td>ALL</td>\n",
       "      <td>NaN</td>\n",
       "      <td>Purchased Part</td>\n",
       "      <td>101</td>\n",
       "      <td>W0446</td>\n",
       "      <td>3040.0</td>\n",
       "      <td>3040</td>\n",
       "      <td>L</td>\n",
       "      <td>FLRYA</td>\n",
       "      <td>0.35</td>\n",
       "      <td>...</td>\n",
       "      <td>X</td>\n",
       "      <td>X</td>\n",
       "      <td>X</td>\n",
       "      <td>X</td>\n",
       "      <td>X</td>\n",
       "      <td>X</td>\n",
       "      <td>X</td>\n",
       "      <td>X</td>\n",
       "      <td>X</td>\n",
       "      <td>X</td>\n",
       "    </tr>\n",
       "    <tr>\n",
       "      <th>3</th>\n",
       "      <td>AVCAM</td>\n",
       "      <td>NaN</td>\n",
       "      <td>Twisted Wire</td>\n",
       "      <td>102</td>\n",
       "      <td>W0455</td>\n",
       "      <td>1665.0</td>\n",
       "      <td>1635</td>\n",
       "      <td>G/W</td>\n",
       "      <td>COFLRYB</td>\n",
       "      <td>0.35</td>\n",
       "      <td>...</td>\n",
       "      <td>NaN</td>\n",
       "      <td>NaN</td>\n",
       "      <td>NaN</td>\n",
       "      <td>NaN</td>\n",
       "      <td>NaN</td>\n",
       "      <td>NaN</td>\n",
       "      <td>X</td>\n",
       "      <td>NaN</td>\n",
       "      <td>X</td>\n",
       "      <td>NaN</td>\n",
       "    </tr>\n",
       "    <tr>\n",
       "      <th>4</th>\n",
       "      <td>ALL</td>\n",
       "      <td>NaN</td>\n",
       "      <td>Single Wire</td>\n",
       "      <td>1022</td>\n",
       "      <td>W0550</td>\n",
       "      <td>NaN</td>\n",
       "      <td>1010</td>\n",
       "      <td>P/W</td>\n",
       "      <td>COFLRYB</td>\n",
       "      <td>0.35</td>\n",
       "      <td>...</td>\n",
       "      <td>X</td>\n",
       "      <td>X</td>\n",
       "      <td>X</td>\n",
       "      <td>X</td>\n",
       "      <td>X</td>\n",
       "      <td>X</td>\n",
       "      <td>X</td>\n",
       "      <td>X</td>\n",
       "      <td>X</td>\n",
       "      <td>X</td>\n",
       "    </tr>\n",
       "  </tbody>\n",
       "</table>\n",
       "<p>5 rows × 90 columns</p>\n",
       "</div>"
      ],
      "text/plain": [
       "  Customer Module/Option  Customer Module/Option Function       Wire Type  \\\n",
       "0       (FSE07 || HTS02)                              NaN     Single Wire   \n",
       "1                    ALL                              NaN  Purchased Part   \n",
       "2                    ALL                              NaN  Purchased Part   \n",
       "3                  AVCAM                              NaN    Twisted Wire   \n",
       "4                    ALL                              NaN     Single Wire   \n",
       "\n",
       "   Wire Customer Name Wire Internal Name  Initial Wire Length[Twisted]  \\\n",
       "0                   1              W0595                           NaN   \n",
       "1                 100              W0445                        3040.0   \n",
       "2                 101              W0446                        3040.0   \n",
       "3                 102              W0455                        1665.0   \n",
       "4                1022              W0550                           NaN   \n",
       "\n",
       "   Final Wire Length Wire Color Wire Kind  Wire Cross-Section  ...  \\\n",
       "0                760       B/BR   COFLRYB                1.50  ...   \n",
       "1               3040          Y     FLRYA                0.35  ...   \n",
       "2               3040          L     FLRYA                0.35  ...   \n",
       "3               1635        G/W   COFLRYB                0.35  ...   \n",
       "4               1010        P/W   COFLRYB                0.35  ...   \n",
       "\n",
       "  240107216V:A0000 240107622V:00000 240107837V:00000 240108098V:A0000  \\\n",
       "0                X                X                X              NaN   \n",
       "1                X                X                X                X   \n",
       "2                X                X                X                X   \n",
       "3              NaN              NaN              NaN              NaN   \n",
       "4                X                X                X                X   \n",
       "\n",
       "  240108155V:A0000  240108592V:A0000  240108849V:A0000 240109138V:00000  \\\n",
       "0              NaN               NaN                 X                X   \n",
       "1                X                 X                 X                X   \n",
       "2                X                 X                 X                X   \n",
       "3              NaN               NaN                 X              NaN   \n",
       "4                X                 X                 X                X   \n",
       "\n",
       "  240109407V:00000  240109580V:A0000  \n",
       "0                X                 X  \n",
       "1                X                 X  \n",
       "2                X                 X  \n",
       "3                X               NaN  \n",
       "4                X                 X  \n",
       "\n",
       "[5 rows x 90 columns]"
      ]
     },
     "execution_count": 114,
     "metadata": {},
     "output_type": "execute_result"
    }
   ],
   "source": []
  },
  {
   "cell_type": "code",
   "execution_count": 120,
   "metadata": {},
   "outputs": [
    {
     "data": {
      "text/plain": [
       "[('S006205680', 624),\n",
       " ('S006205681', 625),\n",
       " ('S006205682', 656),\n",
       " ('S006205683', 655),\n",
       " ('S006205686', 446)]"
      ]
     },
     "execution_count": 120,
     "metadata": {},
     "output_type": "execute_result"
    }
   ],
   "source": [
    "material_to_comp_dict = dict(zip(df_ypp_cae_pivot['Material'], df_ypp_cae_pivot['Composition No']))\n",
    "\n",
    "list(material_to_comp_dict.items())[:5]"
   ]
  },
  {
   "cell_type": "code",
   "execution_count": 121,
   "metadata": {},
   "outputs": [
    {
     "data": {
      "application/vnd.microsoft.datawrangler.viewer.v0+json": {
       "columns": [
        {
         "name": "index",
         "rawType": "int64",
         "type": "integer"
        },
        {
         "name": "Level",
         "rawType": "object",
         "type": "string"
        },
        {
         "name": "SN1",
         "rawType": "object",
         "type": "string"
        },
        {
         "name": "DES1",
         "rawType": "object",
         "type": "string"
        },
        {
         "name": "SN2",
         "rawType": "object",
         "type": "string"
        },
        {
         "name": "DES2",
         "rawType": "object",
         "type": "string"
        },
        {
         "name": "SN3",
         "rawType": "object",
         "type": "string"
        },
        {
         "name": "DES3",
         "rawType": "object",
         "type": "string"
        },
        {
         "name": "240100339V",
         "rawType": "int64",
         "type": "integer"
        },
        {
         "name": "240100502V",
         "rawType": "int64",
         "type": "integer"
        },
        {
         "name": "240100622V",
         "rawType": "int64",
         "type": "integer"
        },
        {
         "name": "240100991V",
         "rawType": "int64",
         "type": "integer"
        },
        {
         "name": "240101080V",
         "rawType": "int64",
         "type": "integer"
        },
        {
         "name": "240101094V",
         "rawType": "int64",
         "type": "integer"
        },
        {
         "name": "240101713V",
         "rawType": "int64",
         "type": "integer"
        },
        {
         "name": "240102007V",
         "rawType": "int64",
         "type": "integer"
        },
        {
         "name": "240102054V",
         "rawType": "int64",
         "type": "integer"
        },
        {
         "name": "240102116V",
         "rawType": "int64",
         "type": "integer"
        },
        {
         "name": "240102393V",
         "rawType": "int64",
         "type": "integer"
        },
        {
         "name": "240102646V",
         "rawType": "int64",
         "type": "integer"
        },
        {
         "name": "240102820V",
         "rawType": "int64",
         "type": "integer"
        },
        {
         "name": "240103091V",
         "rawType": "int64",
         "type": "integer"
        },
        {
         "name": "240103178V",
         "rawType": "int64",
         "type": "integer"
        },
        {
         "name": "240103678V",
         "rawType": "int64",
         "type": "integer"
        },
        {
         "name": "240103766V",
         "rawType": "int64",
         "type": "integer"
        },
        {
         "name": "240104500V",
         "rawType": "int64",
         "type": "integer"
        },
        {
         "name": "240104640V",
         "rawType": "int64",
         "type": "integer"
        },
        {
         "name": "240105077V",
         "rawType": "int64",
         "type": "integer"
        },
        {
         "name": "240105109V",
         "rawType": "int64",
         "type": "integer"
        },
        {
         "name": "240105110V",
         "rawType": "int64",
         "type": "integer"
        },
        {
         "name": "240105246V",
         "rawType": "int64",
         "type": "integer"
        },
        {
         "name": "240106497V",
         "rawType": "int64",
         "type": "integer"
        },
        {
         "name": "240106548V",
         "rawType": "int64",
         "type": "integer"
        },
        {
         "name": "240107120V",
         "rawType": "int64",
         "type": "integer"
        },
        {
         "name": "240107216V",
         "rawType": "int64",
         "type": "integer"
        },
        {
         "name": "240107622V",
         "rawType": "int64",
         "type": "integer"
        },
        {
         "name": "240107837V",
         "rawType": "int64",
         "type": "integer"
        },
        {
         "name": "240108098V",
         "rawType": "int64",
         "type": "integer"
        },
        {
         "name": "240108155V",
         "rawType": "int64",
         "type": "integer"
        },
        {
         "name": "240108592V",
         "rawType": "int64",
         "type": "integer"
        },
        {
         "name": "240108849V",
         "rawType": "int64",
         "type": "integer"
        },
        {
         "name": "240109138V",
         "rawType": "int64",
         "type": "integer"
        },
        {
         "name": "240109407V",
         "rawType": "int64",
         "type": "integer"
        },
        {
         "name": "240109580V",
         "rawType": "int64",
         "type": "integer"
        }
       ],
       "conversionMethod": "pd.DataFrame",
       "ref": "5d2e418c-808c-43d1-967c-a9417fe87574",
       "rows": [
        [
         "0",
         "***3",
         "S008915659",
         "Super Group 036 See drawing",
         "S008915617",
         "Twisted Wire 32   ZZ",
         "S008915423",
         "Circuit 0605 COFLRYB 0.35 BR/W",
         "1",
         "0",
         "1",
         "0",
         "0",
         "1",
         "0",
         "0",
         "0",
         "0",
         "0",
         "0",
         "1",
         "0",
         "0",
         "0",
         "0",
         "0",
         "0",
         "0",
         "1",
         "1",
         "0",
         "0",
         "1",
         "1",
         "0",
         "1",
         "1",
         "0",
         "0",
         "0",
         "0",
         "1",
         "1",
         "0"
        ],
        [
         "1",
         "***3",
         "S008915659",
         "Super Group 036 See drawing",
         "S008915617",
         "Twisted Wire 32   ZZ",
         "S008915424",
         "Circuit 0606 COFLRYB 0.35 L/W",
         "1",
         "0",
         "1",
         "0",
         "0",
         "1",
         "0",
         "0",
         "0",
         "0",
         "0",
         "0",
         "1",
         "0",
         "0",
         "0",
         "0",
         "0",
         "0",
         "0",
         "1",
         "1",
         "0",
         "0",
         "1",
         "1",
         "0",
         "1",
         "1",
         "0",
         "0",
         "0",
         "0",
         "1",
         "1",
         "0"
        ],
        [
         "2",
         "***3",
         "S008915659",
         "Super Group 036 See drawing",
         "S008915618",
         "Twisted Wire 24   ZZ",
         "S008915425",
         "Circuit 0418 COFLRYB 0.35 BR/W",
         "1",
         "0",
         "1",
         "0",
         "0",
         "1",
         "0",
         "0",
         "0",
         "0",
         "0",
         "0",
         "1",
         "0",
         "0",
         "0",
         "0",
         "0",
         "0",
         "0",
         "1",
         "1",
         "0",
         "0",
         "1",
         "1",
         "0",
         "1",
         "1",
         "0",
         "0",
         "0",
         "0",
         "1",
         "1",
         "0"
        ],
        [
         "3",
         "***3",
         "S008915659",
         "Super Group 036 See drawing",
         "S008915618",
         "Twisted Wire 24   ZZ",
         "S008915426",
         "Circuit 0419 COFLRYB 0.35 L/W",
         "1",
         "0",
         "1",
         "0",
         "0",
         "1",
         "0",
         "0",
         "0",
         "0",
         "0",
         "0",
         "1",
         "0",
         "0",
         "0",
         "0",
         "0",
         "0",
         "0",
         "1",
         "1",
         "0",
         "0",
         "1",
         "1",
         "0",
         "1",
         "1",
         "0",
         "0",
         "0",
         "0",
         "1",
         "1",
         "0"
        ],
        [
         "4",
         "***3",
         "S008915659",
         "Super Group 036 See drawing",
         "S008915619",
         "Twisted Wire 08   ZZ",
         "S008915427",
         "Circuit 0497 COFLRYB 0.35 BR/W",
         "1",
         "0",
         "1",
         "0",
         "0",
         "1",
         "0",
         "0",
         "0",
         "0",
         "0",
         "0",
         "1",
         "0",
         "0",
         "0",
         "0",
         "0",
         "0",
         "0",
         "1",
         "1",
         "0",
         "0",
         "1",
         "1",
         "0",
         "1",
         "1",
         "0",
         "0",
         "0",
         "0",
         "1",
         "1",
         "0"
        ]
       ],
       "shape": {
        "columns": 43,
        "rows": 5
       }
      },
      "text/html": [
       "<div>\n",
       "<style scoped>\n",
       "    .dataframe tbody tr th:only-of-type {\n",
       "        vertical-align: middle;\n",
       "    }\n",
       "\n",
       "    .dataframe tbody tr th {\n",
       "        vertical-align: top;\n",
       "    }\n",
       "\n",
       "    .dataframe thead th {\n",
       "        text-align: right;\n",
       "    }\n",
       "</style>\n",
       "<table border=\"1\" class=\"dataframe\">\n",
       "  <thead>\n",
       "    <tr style=\"text-align: right;\">\n",
       "      <th></th>\n",
       "      <th>Level</th>\n",
       "      <th>SN1</th>\n",
       "      <th>DES1</th>\n",
       "      <th>SN2</th>\n",
       "      <th>DES2</th>\n",
       "      <th>SN3</th>\n",
       "      <th>DES3</th>\n",
       "      <th>240100339V</th>\n",
       "      <th>240100502V</th>\n",
       "      <th>240100622V</th>\n",
       "      <th>...</th>\n",
       "      <th>240107216V</th>\n",
       "      <th>240107622V</th>\n",
       "      <th>240107837V</th>\n",
       "      <th>240108098V</th>\n",
       "      <th>240108155V</th>\n",
       "      <th>240108592V</th>\n",
       "      <th>240108849V</th>\n",
       "      <th>240109138V</th>\n",
       "      <th>240109407V</th>\n",
       "      <th>240109580V</th>\n",
       "    </tr>\n",
       "  </thead>\n",
       "  <tbody>\n",
       "    <tr>\n",
       "      <th>0</th>\n",
       "      <td>***3</td>\n",
       "      <td>S008915659</td>\n",
       "      <td>Super Group 036 See drawing</td>\n",
       "      <td>S008915617</td>\n",
       "      <td>Twisted Wire 32   ZZ</td>\n",
       "      <td>S008915423</td>\n",
       "      <td>Circuit 0605 COFLRYB 0.35 BR/W</td>\n",
       "      <td>1</td>\n",
       "      <td>0</td>\n",
       "      <td>1</td>\n",
       "      <td>...</td>\n",
       "      <td>0</td>\n",
       "      <td>1</td>\n",
       "      <td>1</td>\n",
       "      <td>0</td>\n",
       "      <td>0</td>\n",
       "      <td>0</td>\n",
       "      <td>0</td>\n",
       "      <td>1</td>\n",
       "      <td>1</td>\n",
       "      <td>0</td>\n",
       "    </tr>\n",
       "    <tr>\n",
       "      <th>1</th>\n",
       "      <td>***3</td>\n",
       "      <td>S008915659</td>\n",
       "      <td>Super Group 036 See drawing</td>\n",
       "      <td>S008915617</td>\n",
       "      <td>Twisted Wire 32   ZZ</td>\n",
       "      <td>S008915424</td>\n",
       "      <td>Circuit 0606 COFLRYB 0.35 L/W</td>\n",
       "      <td>1</td>\n",
       "      <td>0</td>\n",
       "      <td>1</td>\n",
       "      <td>...</td>\n",
       "      <td>0</td>\n",
       "      <td>1</td>\n",
       "      <td>1</td>\n",
       "      <td>0</td>\n",
       "      <td>0</td>\n",
       "      <td>0</td>\n",
       "      <td>0</td>\n",
       "      <td>1</td>\n",
       "      <td>1</td>\n",
       "      <td>0</td>\n",
       "    </tr>\n",
       "    <tr>\n",
       "      <th>2</th>\n",
       "      <td>***3</td>\n",
       "      <td>S008915659</td>\n",
       "      <td>Super Group 036 See drawing</td>\n",
       "      <td>S008915618</td>\n",
       "      <td>Twisted Wire 24   ZZ</td>\n",
       "      <td>S008915425</td>\n",
       "      <td>Circuit 0418 COFLRYB 0.35 BR/W</td>\n",
       "      <td>1</td>\n",
       "      <td>0</td>\n",
       "      <td>1</td>\n",
       "      <td>...</td>\n",
       "      <td>0</td>\n",
       "      <td>1</td>\n",
       "      <td>1</td>\n",
       "      <td>0</td>\n",
       "      <td>0</td>\n",
       "      <td>0</td>\n",
       "      <td>0</td>\n",
       "      <td>1</td>\n",
       "      <td>1</td>\n",
       "      <td>0</td>\n",
       "    </tr>\n",
       "    <tr>\n",
       "      <th>3</th>\n",
       "      <td>***3</td>\n",
       "      <td>S008915659</td>\n",
       "      <td>Super Group 036 See drawing</td>\n",
       "      <td>S008915618</td>\n",
       "      <td>Twisted Wire 24   ZZ</td>\n",
       "      <td>S008915426</td>\n",
       "      <td>Circuit 0419 COFLRYB 0.35 L/W</td>\n",
       "      <td>1</td>\n",
       "      <td>0</td>\n",
       "      <td>1</td>\n",
       "      <td>...</td>\n",
       "      <td>0</td>\n",
       "      <td>1</td>\n",
       "      <td>1</td>\n",
       "      <td>0</td>\n",
       "      <td>0</td>\n",
       "      <td>0</td>\n",
       "      <td>0</td>\n",
       "      <td>1</td>\n",
       "      <td>1</td>\n",
       "      <td>0</td>\n",
       "    </tr>\n",
       "    <tr>\n",
       "      <th>4</th>\n",
       "      <td>***3</td>\n",
       "      <td>S008915659</td>\n",
       "      <td>Super Group 036 See drawing</td>\n",
       "      <td>S008915619</td>\n",
       "      <td>Twisted Wire 08   ZZ</td>\n",
       "      <td>S008915427</td>\n",
       "      <td>Circuit 0497 COFLRYB 0.35 BR/W</td>\n",
       "      <td>1</td>\n",
       "      <td>0</td>\n",
       "      <td>1</td>\n",
       "      <td>...</td>\n",
       "      <td>0</td>\n",
       "      <td>1</td>\n",
       "      <td>1</td>\n",
       "      <td>0</td>\n",
       "      <td>0</td>\n",
       "      <td>0</td>\n",
       "      <td>0</td>\n",
       "      <td>1</td>\n",
       "      <td>1</td>\n",
       "      <td>0</td>\n",
       "    </tr>\n",
       "  </tbody>\n",
       "</table>\n",
       "<p>5 rows × 43 columns</p>\n",
       "</div>"
      ],
      "text/plain": [
       "  Level         SN1                         DES1         SN2  \\\n",
       "0  ***3  S008915659  Super Group 036 See drawing  S008915617   \n",
       "1  ***3  S008915659  Super Group 036 See drawing  S008915617   \n",
       "2  ***3  S008915659  Super Group 036 See drawing  S008915618   \n",
       "3  ***3  S008915659  Super Group 036 See drawing  S008915618   \n",
       "4  ***3  S008915659  Super Group 036 See drawing  S008915619   \n",
       "\n",
       "                   DES2         SN3                            DES3  \\\n",
       "0  Twisted Wire 32   ZZ  S008915423  Circuit 0605 COFLRYB 0.35 BR/W   \n",
       "1  Twisted Wire 32   ZZ  S008915424   Circuit 0606 COFLRYB 0.35 L/W   \n",
       "2  Twisted Wire 24   ZZ  S008915425  Circuit 0418 COFLRYB 0.35 BR/W   \n",
       "3  Twisted Wire 24   ZZ  S008915426   Circuit 0419 COFLRYB 0.35 L/W   \n",
       "4  Twisted Wire 08   ZZ  S008915427  Circuit 0497 COFLRYB 0.35 BR/W   \n",
       "\n",
       "   240100339V  240100502V  240100622V  ...  240107216V  240107622V  \\\n",
       "0           1           0           1  ...           0           1   \n",
       "1           1           0           1  ...           0           1   \n",
       "2           1           0           1  ...           0           1   \n",
       "3           1           0           1  ...           0           1   \n",
       "4           1           0           1  ...           0           1   \n",
       "\n",
       "   240107837V  240108098V  240108155V  240108592V  240108849V  240109138V  \\\n",
       "0           1           0           0           0           0           1   \n",
       "1           1           0           0           0           0           1   \n",
       "2           1           0           0           0           0           1   \n",
       "3           1           0           0           0           0           1   \n",
       "4           1           0           0           0           0           1   \n",
       "\n",
       "   240109407V  240109580V  \n",
       "0           1           0  \n",
       "1           1           0  \n",
       "2           1           0  \n",
       "3           1           0  \n",
       "4           1           0  \n",
       "\n",
       "[5 rows x 43 columns]"
      ]
     },
     "execution_count": 121,
     "metadata": {},
     "output_type": "execute_result"
    }
   ],
   "source": [
    "mmsta_sep = pd.read_excel('../Data/mmsta_sep.xlsx')\n",
    "mmsta_sep.head(5)"
   ]
  },
  {
   "cell_type": "code",
   "execution_count": 122,
   "metadata": {},
   "outputs": [],
   "source": [
    "mmsta_sep['Wire Internal Name'] = mmsta_sep['SN1'].map(material_to_comp_dict)"
   ]
  },
  {
   "cell_type": "code",
   "execution_count": 123,
   "metadata": {},
   "outputs": [],
   "source": [
    "idx_1 = mmsta_sep[mmsta_sep['Wire Internal Name'].isnull()].index\n",
    "mmsta_sep.loc[idx_1, 'Wire Internal Name'] = mmsta_sep.loc[idx_1, 'SN2'].map(material_to_comp_dict)"
   ]
  },
  {
   "cell_type": "code",
   "execution_count": 124,
   "metadata": {},
   "outputs": [],
   "source": [
    "idx_2 = mmsta_sep[mmsta_sep['Wire Internal Name'].isnull()].index\n",
    "mmsta_sep.loc[idx_2, 'Wire Internal Name'] = mmsta_sep.loc[idx_2, 'SN3'].map(material_to_comp_dict)"
   ]
  },
  {
   "cell_type": "code",
   "execution_count": 125,
   "metadata": {},
   "outputs": [
    {
     "name": "stdout",
     "output_type": "stream",
     "text": [
      "Columns contain the same product numbers: True\n"
     ]
    }
   ],
   "source": [
    "PN_columns_mmsta = mmsta_sep.columns[7:-1]\n",
    "PN_columns_mmsta = list(PN_columns_mmsta)\n",
    "\n",
    "# Check if the extracted columns match the existing PN_columns\n",
    "same_elements = set(PN_columns) == set(PN_columns_wirelist)\n",
    "print(f\"Columns contain the same product numbers: {same_elements}\")"
   ]
  },
  {
   "cell_type": "code",
   "execution_count": 218,
   "metadata": {},
   "outputs": [
    {
     "name": "stderr",
     "output_type": "stream",
     "text": [
      "c:\\Users\\user\\anaconda3\\envs\\rpa_env\\Lib\\site-packages\\openpyxl\\styles\\stylesheet.py:237: UserWarning: Workbook contains no default style, apply openpyxl's default\n",
      "  warn(\"Workbook contains no default style, apply openpyxl's default\")\n",
      "C:\\Users\\user\\AppData\\Local\\Temp\\ipykernel_23516\\2483034985.py:17: FutureWarning: Downcasting behavior in `replace` is deprecated and will be removed in a future version. To retain the old behavior, explicitly call `result.infer_objects(copy=False)`. To opt-in to the future behavior, set `pd.set_option('future.no_silent_downcasting', True)`\n",
      "  df_wire_list[PN_columns_wirelist] = df_wire_list[PN_columns_wirelist].replace('X', 1)\n"
     ]
    }
   ],
   "source": [
    "df_wire_list = pd.read_excel('../Data/2D0062156P-H0000_MaxWireList.xlsx')\n",
    "\n",
    "PN_columns_wirelist = df_wire_list.columns[54:]\n",
    "PN_columns_wirelist = list(PN_columns_wirelist)\n",
    "PN_columns_wirelist = [col.split(':')[0] for col in PN_columns_wirelist]\n",
    "\n",
    "num_cols_to_rename = len(df_wire_list.columns[54:])\n",
    "df_wire_list.columns = df_wire_list.columns[:54].tolist() + PN_columns_wirelist\n",
    "\n",
    "df_wire_list['SN1'] = None  \n",
    "df_wire_list['SN2'] = None  \n",
    "df_wire_list['Sup Grp'] = None  \n",
    "df_wire_list['DES'] = None \n",
    "\n",
    "df_wire_list['Wire Internal Name'] = df_wire_list['Wire Internal Name'].str.replace('W', '').astype(int)\n",
    "\n",
    "df_wire_list[PN_columns_wirelist] = df_wire_list[PN_columns_wirelist].replace('X', 1)\n",
    "df_wire_list[PN_columns_wirelist] = df_wire_list[PN_columns_wirelist].apply(pd.to_numeric, errors='coerce').fillna(0).astype(int)"
   ]
  },
  {
   "cell_type": "code",
   "execution_count": 219,
   "metadata": {},
   "outputs": [],
   "source": [
    "def get_col(wire):\n",
    "     cols = []\n",
    "     keys_for_Wire = [key for key, value in material_to_comp_dict.items() if value == wire]\n",
    "     for key in keys_for_Wire :\n",
    "          col = mmsta_sep.columns[mmsta_sep.isin([key]).any()][0]\n",
    "          cols.append(col)\n",
    "\n",
    "     return cols\n",
    "\n",
    "# Define a function to find rows in df_wire_list that match product number patterns in mmsta_sep\n",
    "def find_matching_rows_for_wire(wire_internal_name, df_wire_list, mmsta_sep, PN_columns_wirelist, PN_columns_mmsta):\n",
    "\n",
    "    matches = []\n",
    "    \n",
    "    # Get rows for the specified wire\n",
    "    wire_rows = df_wire_list[df_wire_list['Wire Internal Name'] == wire_internal_name]\n",
    "    matching_rows = mmsta_sep[mmsta_sep['Wire Internal Name'] == wire_internal_name]\n",
    "    \n",
    "    if not matching_rows.empty and not wire_rows.empty:\n",
    "        for wire_idx in wire_rows.index:\n",
    "            pene_max = wire_rows.loc[wire_idx, PN_columns_wirelist].values\n",
    "            \n",
    "            for mmsta_idx in matching_rows.index:\n",
    "                pen_mmsta = matching_rows.loc[mmsta_idx, PN_columns_mmsta].values\n",
    "                \n",
    "                # Check if product number patterns match\n",
    "                if np.array_equal(pene_max, pen_mmsta):\n",
    "                    matches.append((wire_idx, mmsta_idx))\n",
    "    \n",
    "    return matches"
   ]
  },
  {
   "cell_type": "code",
   "execution_count": 220,
   "metadata": {},
   "outputs": [
    {
     "name": "stderr",
     "output_type": "stream",
     "text": [
      "C:\\Users\\user\\AppData\\Local\\Temp\\ipykernel_23516\\3695803196.py:66: FutureWarning: The behavior of DataFrame concatenation with empty or all-NA entries is deprecated. In a future version, this will no longer exclude empty or all-NA columns when determining the result dtypes. To retain the old behavior, exclude the relevant entries before the concat operation.\n",
      "  df_wire_list = pd.concat([df_wire_list, new_row.to_frame().T], ignore_index=True)\n",
      "C:\\Users\\user\\AppData\\Local\\Temp\\ipykernel_23516\\3695803196.py:66: FutureWarning: The behavior of DataFrame concatenation with empty or all-NA entries is deprecated. In a future version, this will no longer exclude empty or all-NA columns when determining the result dtypes. To retain the old behavior, exclude the relevant entries before the concat operation.\n",
      "  df_wire_list = pd.concat([df_wire_list, new_row.to_frame().T], ignore_index=True)\n"
     ]
    }
   ],
   "source": [
    "# Fix the code in cell 34 which has syntax errors and logical issues\n",
    "import numpy as np\n",
    "all_wires = []\n",
    "\n",
    "for wire in df_wire_list['Wire Internal Name'].unique():\n",
    "      df_wire = df_wire_list[df_wire_list['Wire Internal Name'] == wire]\n",
    "      matching_rows = mmsta_sep[mmsta_sep['Wire Internal Name'] == wire]\n",
    "      all_wires.append(wire)\n",
    "      if df_wire.shape[0] == 1 and not matching_rows.empty:\n",
    "            pene_max = df_wire_list[df_wire_list['Wire Internal Name'] == wire][PN_columns_wirelist].values[0]\n",
    "            pen_mmsta = np.sum(mmsta_sep[mmsta_sep['Wire Internal Name'] == wire][PN_columns_mmsta].values, axis=0)\n",
    "            if np.array_equal(pene_max, pen_mmsta):\n",
    "                  n_fois_duplicate = mmsta_sep[mmsta_sep['Wire Internal Name'] == wire].shape[0]\n",
    "             \n",
    "                  if n_fois_duplicate > 1:\n",
    "                        row_to_duplicate = df_wire\n",
    "                        df_wire_list = df_wire_list[df_wire_list['Wire Internal Name'] != wire]\n",
    "                        df_wire_list = df_wire_list.reset_index(drop=True)\n",
    "                    \n",
    "                        for i in range(n_fois_duplicate):\n",
    "                              matching_row = matching_rows.iloc[i]\n",
    "                              level = matching_row['Level'][-1]\n",
    "                              row_to_duplicate[PN_columns_wirelist] = matching_row[PN_columns_mmsta].values\n",
    "                              if int(level) == 3:\n",
    "                                    row_to_duplicate['SN1'] = matching_row['SN3'] \n",
    "                                    row_to_duplicate['SN2'] = matching_row['SN2']\n",
    "                                    row_to_duplicate['Sup Grp'] = matching_row['SN1']\n",
    "                                    row_to_duplicate['DES'] = matching_row['DES3']\n",
    "                              elif int(level) == 2:\n",
    "                                    row_to_duplicate['SN1'] = matching_row['SN2']\n",
    "                                    row_to_duplicate['SN2'] = matching_row['SN1']\n",
    "                                    row_to_duplicate['DES'] = matching_row['DES2']\n",
    "                              elif int(level) == 1:\n",
    "                                    row_to_duplicate['SN1'] = matching_row['SN1']\n",
    "                                    row_to_duplicate['DES'] = matching_row['DES1']\n",
    "                          \n",
    "                              df_wire_list = pd.concat([df_wire_list, row_to_duplicate], ignore_index=True)\n",
    "                          \n",
    "      elif df_wire.shape[0] > 1 and not matching_rows.empty:\n",
    "            tuple_match = find_matching_rows_for_wire(wire, df_wire_list, mmsta_sep, PN_columns_wirelist, PN_columns_mmsta)\n",
    "            for wire_idx, mmsta_idx in tuple_match:\n",
    "    \n",
    "                  df_wire = df_wire_list.loc[wire_idx]\n",
    "                  matching_row = mmsta_sep.loc[mmsta_idx]\n",
    "                  \n",
    "                  # # Create a new row based on the matching row\n",
    "                  new_row = df_wire.copy()\n",
    "                  new_row[PN_columns_wirelist] = matching_row[PN_columns_mmsta].values\n",
    "                  \n",
    "                  level = matching_row['Level'][-1]\n",
    "                  \n",
    "                  if int(level) == 3:\n",
    "                        new_row['SN1'] = matching_row['SN3'] \n",
    "                        new_row['SN2'] = matching_row['SN2']\n",
    "                        new_row['Sup Grp'] = matching_row['SN1']\n",
    "                        new_row['DES'] = matching_row['DES3']\n",
    "                  elif int(level) == 2:\n",
    "                        new_row['SN1'] = matching_row['SN2']\n",
    "                        new_row['SN2'] = matching_row['SN1']\n",
    "                        new_row['DES'] = matching_row['DES2']\n",
    "                  elif int(level) == 1:\n",
    "                        new_row['SN1'] = matching_row['SN1']\n",
    "                        new_row['DES'] = matching_row['DES1']\n",
    "                  \n",
    "                  # Append the new row to df_wire_list\n",
    "                  df_wire_list = pd.concat([df_wire_list, new_row.to_frame().T], ignore_index=True)\n",
    "                  df_wire_list = df_wire_list.reset_index(drop=True)\n",
    "            "
   ]
  },
  {
   "cell_type": "code",
   "execution_count": 221,
   "metadata": {},
   "outputs": [],
   "source": [
    "df_wire_list.to_excel('../Data/2D0062156P-H0000_MaxWireList_Updated.xlsx', index=False)"
   ]
  },
  {
   "cell_type": "code",
   "execution_count": null,
   "metadata": {},
   "outputs": [
    {
     "name": "stdout",
     "output_type": "stream",
     "text": [
      "Wire Index: 127, MMSTA Index: 956\n",
      "Wire Index: 128, MMSTA Index: 574\n"
     ]
    }
   ],
   "source": [
    "tuple_match = find_matching_rows_for_wire(151, df_wire_list, mmsta_sep, PN_columns_wirelist, PN_columns_mmsta)\n",
    "\n",
    "for wire_idx, mmsta_idx in tuple_match:\n",
    "    \n",
    "    df_wire = df_wire_list.loc[wire_idx]\n",
    "    matching_row = mmsta_sep.loc[mmsta_idx]\n",
    "    \n",
    "    # # Create a new row based on the matching row\n",
    "    new_row = df_wire.copy()\n",
    "    new_row[PN_columns_wirelist] = matching_row[PN_columns_mmsta].values\n",
    "    \n",
    "    level = matching_row['Level'][-1]\n",
    "    \n",
    "    if int(level) == 3:\n",
    "        new_row['SN1'] = matching_row['SN3'] \n",
    "        new_row['SN2'] = matching_row['SN2']\n",
    "        new_row['Sup Grp'] = matching_row['SN1']\n",
    "        new_row['DES'] = matching_row['DES3']\n",
    "    elif int(level) == 2:\n",
    "        new_row['SN1'] = matching_row['SN2']\n",
    "        new_row['SN2'] = matching_row['SN1']\n",
    "        new_row['DES'] = matching_row['DES2']\n",
    "    elif int(level) == 1:\n",
    "        new_row['SN1'] = matching_row['SN1']\n",
    "        new_row['DES'] = matching_row['DES1']\n",
    "    \n",
    "    # Append the new row to df_wire_list\n",
    "    df_wire_list = pd.concat([df_wire_list, new_row.to_frame().T], ignore_index=True)\n",
    "    df_wire_list = df_wire_list.reset_index(drop=True)"
   ]
  },
  {
   "cell_type": "code",
   "execution_count": null,
   "metadata": {},
   "outputs": [
    {
     "data": {
      "text/plain": [
       "[(127, 956), (128, 574)]"
      ]
     },
     "execution_count": 213,
     "metadata": {},
     "output_type": "execute_result"
    }
   ],
   "source": []
  },
  {
   "cell_type": "code",
   "execution_count": 207,
   "metadata": {},
   "outputs": [
    {
     "data": {
      "application/vnd.microsoft.datawrangler.viewer.v0+json": {
       "columns": [
        {
         "name": "index",
         "rawType": "int64",
         "type": "integer"
        },
        {
         "name": "Level",
         "rawType": "object",
         "type": "string"
        },
        {
         "name": "SN1",
         "rawType": "object",
         "type": "string"
        },
        {
         "name": "DES1",
         "rawType": "object",
         "type": "string"
        },
        {
         "name": "SN2",
         "rawType": "object",
         "type": "string"
        },
        {
         "name": "DES2",
         "rawType": "object",
         "type": "string"
        },
        {
         "name": "SN3",
         "rawType": "object",
         "type": "string"
        },
        {
         "name": "DES3",
         "rawType": "object",
         "type": "string"
        },
        {
         "name": "240100339V",
         "rawType": "int64",
         "type": "integer"
        },
        {
         "name": "240100502V",
         "rawType": "int64",
         "type": "integer"
        },
        {
         "name": "240100622V",
         "rawType": "int64",
         "type": "integer"
        },
        {
         "name": "240100991V",
         "rawType": "int64",
         "type": "integer"
        },
        {
         "name": "240101080V",
         "rawType": "int64",
         "type": "integer"
        },
        {
         "name": "240101094V",
         "rawType": "int64",
         "type": "integer"
        },
        {
         "name": "240101713V",
         "rawType": "int64",
         "type": "integer"
        },
        {
         "name": "240102007V",
         "rawType": "int64",
         "type": "integer"
        },
        {
         "name": "240102054V",
         "rawType": "int64",
         "type": "integer"
        },
        {
         "name": "240102116V",
         "rawType": "int64",
         "type": "integer"
        },
        {
         "name": "240102393V",
         "rawType": "int64",
         "type": "integer"
        },
        {
         "name": "240102646V",
         "rawType": "int64",
         "type": "integer"
        },
        {
         "name": "240102820V",
         "rawType": "int64",
         "type": "integer"
        },
        {
         "name": "240103091V",
         "rawType": "int64",
         "type": "integer"
        },
        {
         "name": "240103178V",
         "rawType": "int64",
         "type": "integer"
        },
        {
         "name": "240103678V",
         "rawType": "int64",
         "type": "integer"
        },
        {
         "name": "240103766V",
         "rawType": "int64",
         "type": "integer"
        },
        {
         "name": "240104500V",
         "rawType": "int64",
         "type": "integer"
        },
        {
         "name": "240104640V",
         "rawType": "int64",
         "type": "integer"
        },
        {
         "name": "240105077V",
         "rawType": "int64",
         "type": "integer"
        },
        {
         "name": "240105109V",
         "rawType": "int64",
         "type": "integer"
        },
        {
         "name": "240105110V",
         "rawType": "int64",
         "type": "integer"
        },
        {
         "name": "240105246V",
         "rawType": "int64",
         "type": "integer"
        },
        {
         "name": "240106497V",
         "rawType": "int64",
         "type": "integer"
        },
        {
         "name": "240106548V",
         "rawType": "int64",
         "type": "integer"
        },
        {
         "name": "240107120V",
         "rawType": "int64",
         "type": "integer"
        },
        {
         "name": "240107216V",
         "rawType": "int64",
         "type": "integer"
        },
        {
         "name": "240107622V",
         "rawType": "int64",
         "type": "integer"
        },
        {
         "name": "240107837V",
         "rawType": "int64",
         "type": "integer"
        },
        {
         "name": "240108098V",
         "rawType": "int64",
         "type": "integer"
        },
        {
         "name": "240108155V",
         "rawType": "int64",
         "type": "integer"
        },
        {
         "name": "240108592V",
         "rawType": "int64",
         "type": "integer"
        },
        {
         "name": "240108849V",
         "rawType": "int64",
         "type": "integer"
        },
        {
         "name": "240109138V",
         "rawType": "int64",
         "type": "integer"
        },
        {
         "name": "240109407V",
         "rawType": "int64",
         "type": "integer"
        },
        {
         "name": "240109580V",
         "rawType": "int64",
         "type": "integer"
        },
        {
         "name": "Wire Internal Name",
         "rawType": "float64",
         "type": "float"
        }
       ],
       "conversionMethod": "pd.DataFrame",
       "ref": "03ef726b-1143-4da4-b231-48c835c7f258",
       "rows": [
        [
         "574",
         "**2",
         "S008915779",
         "Double Crimping 011 See drawing",
         "S008915752",
         "Circuit 0149 COFLRYB 0.5 R",
         "(blank)",
         "(blank)",
         "0",
         "0",
         "0",
         "1",
         "1",
         "0",
         "0",
         "1",
         "0",
         "0",
         "1",
         "0",
         "0",
         "0",
         "1",
         "1",
         "1",
         "1",
         "0",
         "0",
         "0",
         "0",
         "0",
         "1",
         "0",
         "0",
         "1",
         "0",
         "0",
         "0",
         "0",
         "0",
         "1",
         "0",
         "0",
         "1",
         "151.0"
        ],
        [
         "956",
         "*1",
         "S008915686",
         "Circuit 0149 COFLRYB 0.5 R",
         "(blank)",
         "(blank)",
         "(blank)",
         "(blank)",
         "0",
         "0",
         "1",
         "0",
         "0",
         "0",
         "0",
         "0",
         "0",
         "0",
         "0",
         "0",
         "1",
         "0",
         "0",
         "0",
         "0",
         "0",
         "0",
         "0",
         "0",
         "1",
         "0",
         "0",
         "1",
         "0",
         "0",
         "0",
         "1",
         "0",
         "0",
         "0",
         "0",
         "0",
         "1",
         "0",
         "151.0"
        ]
       ],
       "shape": {
        "columns": 44,
        "rows": 2
       }
      },
      "text/html": [
       "<div>\n",
       "<style scoped>\n",
       "    .dataframe tbody tr th:only-of-type {\n",
       "        vertical-align: middle;\n",
       "    }\n",
       "\n",
       "    .dataframe tbody tr th {\n",
       "        vertical-align: top;\n",
       "    }\n",
       "\n",
       "    .dataframe thead th {\n",
       "        text-align: right;\n",
       "    }\n",
       "</style>\n",
       "<table border=\"1\" class=\"dataframe\">\n",
       "  <thead>\n",
       "    <tr style=\"text-align: right;\">\n",
       "      <th></th>\n",
       "      <th>Level</th>\n",
       "      <th>SN1</th>\n",
       "      <th>DES1</th>\n",
       "      <th>SN2</th>\n",
       "      <th>DES2</th>\n",
       "      <th>SN3</th>\n",
       "      <th>DES3</th>\n",
       "      <th>240100339V</th>\n",
       "      <th>240100502V</th>\n",
       "      <th>240100622V</th>\n",
       "      <th>...</th>\n",
       "      <th>240107622V</th>\n",
       "      <th>240107837V</th>\n",
       "      <th>240108098V</th>\n",
       "      <th>240108155V</th>\n",
       "      <th>240108592V</th>\n",
       "      <th>240108849V</th>\n",
       "      <th>240109138V</th>\n",
       "      <th>240109407V</th>\n",
       "      <th>240109580V</th>\n",
       "      <th>Wire Internal Name</th>\n",
       "    </tr>\n",
       "  </thead>\n",
       "  <tbody>\n",
       "    <tr>\n",
       "      <th>574</th>\n",
       "      <td>**2</td>\n",
       "      <td>S008915779</td>\n",
       "      <td>Double Crimping 011 See drawing</td>\n",
       "      <td>S008915752</td>\n",
       "      <td>Circuit 0149 COFLRYB 0.5 R</td>\n",
       "      <td>(blank)</td>\n",
       "      <td>(blank)</td>\n",
       "      <td>0</td>\n",
       "      <td>0</td>\n",
       "      <td>0</td>\n",
       "      <td>...</td>\n",
       "      <td>0</td>\n",
       "      <td>0</td>\n",
       "      <td>0</td>\n",
       "      <td>0</td>\n",
       "      <td>0</td>\n",
       "      <td>1</td>\n",
       "      <td>0</td>\n",
       "      <td>0</td>\n",
       "      <td>1</td>\n",
       "      <td>151.0</td>\n",
       "    </tr>\n",
       "    <tr>\n",
       "      <th>956</th>\n",
       "      <td>*1</td>\n",
       "      <td>S008915686</td>\n",
       "      <td>Circuit 0149 COFLRYB 0.5 R</td>\n",
       "      <td>(blank)</td>\n",
       "      <td>(blank)</td>\n",
       "      <td>(blank)</td>\n",
       "      <td>(blank)</td>\n",
       "      <td>0</td>\n",
       "      <td>0</td>\n",
       "      <td>1</td>\n",
       "      <td>...</td>\n",
       "      <td>0</td>\n",
       "      <td>1</td>\n",
       "      <td>0</td>\n",
       "      <td>0</td>\n",
       "      <td>0</td>\n",
       "      <td>0</td>\n",
       "      <td>0</td>\n",
       "      <td>1</td>\n",
       "      <td>0</td>\n",
       "      <td>151.0</td>\n",
       "    </tr>\n",
       "  </tbody>\n",
       "</table>\n",
       "<p>2 rows × 44 columns</p>\n",
       "</div>"
      ],
      "text/plain": [
       "    Level         SN1                             DES1         SN2  \\\n",
       "574   **2  S008915779  Double Crimping 011 See drawing  S008915752   \n",
       "956    *1  S008915686       Circuit 0149 COFLRYB 0.5 R     (blank)   \n",
       "\n",
       "                           DES2      SN3     DES3  240100339V  240100502V  \\\n",
       "574  Circuit 0149 COFLRYB 0.5 R  (blank)  (blank)           0           0   \n",
       "956                     (blank)  (blank)  (blank)           0           0   \n",
       "\n",
       "     240100622V  ...  240107622V  240107837V  240108098V  240108155V  \\\n",
       "574           0  ...           0           0           0           0   \n",
       "956           1  ...           0           1           0           0   \n",
       "\n",
       "     240108592V  240108849V  240109138V  240109407V  240109580V  \\\n",
       "574           0           1           0           0           1   \n",
       "956           0           0           0           1           0   \n",
       "\n",
       "     Wire Internal Name  \n",
       "574               151.0  \n",
       "956               151.0  \n",
       "\n",
       "[2 rows x 44 columns]"
      ]
     },
     "execution_count": 207,
     "metadata": {},
     "output_type": "execute_result"
    }
   ],
   "source": [
    "matching_rows = mmsta_sep[mmsta_sep['Wire Internal Name'] == 151]\n",
    "matching_rows"
   ]
  },
  {
   "cell_type": "code",
   "execution_count": 205,
   "metadata": {},
   "outputs": [
    {
     "data": {
      "text/plain": [
       "[(102, 956), (103, 574)]"
      ]
     },
     "execution_count": 205,
     "metadata": {},
     "output_type": "execute_result"
    }
   ],
   "source": [
    "matching_rows = mmsta_sep[mmsta_sep['Wire Internal Name'] == 151]\n",
    "find_matching_rows_for_wire(151, df_wire_list, mmsta_sep, PN_columns_wirelist, PN_columns_mmsta)"
   ]
  },
  {
   "cell_type": "code",
   "execution_count": 208,
   "metadata": {},
   "outputs": [
    {
     "data": {
      "application/vnd.microsoft.datawrangler.viewer.v0+json": {
       "columns": [
        {
         "name": "index",
         "rawType": "int64",
         "type": "integer"
        },
        {
         "name": "Customer Module/Option",
         "rawType": "object",
         "type": "string"
        },
        {
         "name": "Customer Module/Option Function",
         "rawType": "float64",
         "type": "float"
        },
        {
         "name": "Wire Type",
         "rawType": "object",
         "type": "string"
        },
        {
         "name": "Wire Customer Name",
         "rawType": "int64",
         "type": "integer"
        },
        {
         "name": "Wire Internal Name",
         "rawType": "int64",
         "type": "integer"
        },
        {
         "name": "Initial Wire Length[Twisted]",
         "rawType": "float64",
         "type": "float"
        },
        {
         "name": "Final Wire Length",
         "rawType": "int64",
         "type": "integer"
        },
        {
         "name": "Wire Color",
         "rawType": "object",
         "type": "string"
        },
        {
         "name": "Wire Kind",
         "rawType": "object",
         "type": "string"
        },
        {
         "name": "Wire Cross-Section",
         "rawType": "float64",
         "type": "float"
        },
        {
         "name": "Wire Spec.",
         "rawType": "object",
         "type": "string"
        },
        {
         "name": "Wire Part Number",
         "rawType": "object",
         "type": "string"
        },
        {
         "name": "Multicore Name",
         "rawType": "object",
         "type": "unknown"
        },
        {
         "name": "Multicore Part Number",
         "rawType": "object",
         "type": "unknown"
        },
        {
         "name": "Pitch",
         "rawType": "object",
         "type": "unknown"
        },
        {
         "name": "Multicore Note",
         "rawType": "float64",
         "type": "float"
        },
        {
         "name": "From Connector (long name)",
         "rawType": "float64",
         "type": "float"
        },
        {
         "name": "From Connector (Short Name)",
         "rawType": "object",
         "type": "string"
        },
        {
         "name": "From X Internal name",
         "rawType": "object",
         "type": "string"
        },
        {
         "name": "Open end_1 [mm]",
         "rawType": "float64",
         "type": "float"
        },
        {
         "name": "From Sequence no.",
         "rawType": "float64",
         "type": "float"
        },
        {
         "name": "From Splice Protection",
         "rawType": "object",
         "type": "unknown"
        },
        {
         "name": "From Splice Base Wire",
         "rawType": "float64",
         "type": "float"
        },
        {
         "name": "From Cavity",
         "rawType": "object",
         "type": "string"
        },
        {
         "name": "From Terminal",
         "rawType": "object",
         "type": "string"
        },
        {
         "name": "Striping Length (mm)",
         "rawType": "float64",
         "type": "float"
        },
        {
         "name": "From Seal by Terminal",
         "rawType": "float64",
         "type": "float"
        },
        {
         "name": "From Marking",
         "rawType": "float64",
         "type": "float"
        },
        {
         "name": "From Connector Material",
         "rawType": "object",
         "type": "string"
        },
        {
         "name": "From Connector Coordinate",
         "rawType": "object",
         "type": "string"
        },
        {
         "name": "From Multiple Wire/Cav",
         "rawType": "object",
         "type": "string"
        },
        {
         "name": "From Crimping Type",
         "rawType": "object",
         "type": "string"
        },
        {
         "name": "From Double Crimp. With Wire(s)",
         "rawType": "object",
         "type": "unknown"
        },
        {
         "name": "From Wire End Components",
         "rawType": "float64",
         "type": "float"
        },
        {
         "name": "From Eyelet Protection",
         "rawType": "float64",
         "type": "float"
        },
        {
         "name": "To Connector (long name)",
         "rawType": "float64",
         "type": "float"
        },
        {
         "name": "To Connector (Short Name)",
         "rawType": "object",
         "type": "string"
        },
        {
         "name": "To X Internal name",
         "rawType": "object",
         "type": "string"
        },
        {
         "name": "Open end_2 [mm]",
         "rawType": "float64",
         "type": "float"
        },
        {
         "name": "To Sequence no.",
         "rawType": "float64",
         "type": "float"
        },
        {
         "name": "To Splice Protection",
         "rawType": "object",
         "type": "unknown"
        },
        {
         "name": "To Splice Base Wire",
         "rawType": "float64",
         "type": "float"
        },
        {
         "name": "To Cavity",
         "rawType": "object",
         "type": "string"
        },
        {
         "name": "To Terminal",
         "rawType": "object",
         "type": "string"
        },
        {
         "name": "Striping Length (mm).1",
         "rawType": "float64",
         "type": "float"
        },
        {
         "name": "To Seal by Terminal",
         "rawType": "float64",
         "type": "float"
        },
        {
         "name": "To Marking",
         "rawType": "float64",
         "type": "float"
        },
        {
         "name": "To Connector Material",
         "rawType": "object",
         "type": "string"
        },
        {
         "name": "To Connector Coordinate",
         "rawType": "object",
         "type": "string"
        },
        {
         "name": "To Multiple Wire/Cav",
         "rawType": "object",
         "type": "string"
        },
        {
         "name": "To Crimping Type",
         "rawType": "object",
         "type": "string"
        },
        {
         "name": "To Double Crimp. With Wire(s)",
         "rawType": "object",
         "type": "unknown"
        },
        {
         "name": "To Wire End Components",
         "rawType": "float64",
         "type": "float"
        },
        {
         "name": "To Eyelet Protection",
         "rawType": "float64",
         "type": "float"
        },
        {
         "name": "240100339V",
         "rawType": "object",
         "type": "unknown"
        },
        {
         "name": "240100502V",
         "rawType": "object",
         "type": "unknown"
        },
        {
         "name": "240100622V",
         "rawType": "object",
         "type": "unknown"
        },
        {
         "name": "240100991V",
         "rawType": "object",
         "type": "unknown"
        },
        {
         "name": "240101080V",
         "rawType": "object",
         "type": "unknown"
        },
        {
         "name": "240101094V",
         "rawType": "object",
         "type": "unknown"
        },
        {
         "name": "240101713V",
         "rawType": "object",
         "type": "unknown"
        },
        {
         "name": "240102007V",
         "rawType": "object",
         "type": "unknown"
        },
        {
         "name": "240102054V",
         "rawType": "object",
         "type": "unknown"
        },
        {
         "name": "240102116V",
         "rawType": "object",
         "type": "unknown"
        },
        {
         "name": "240102393V",
         "rawType": "object",
         "type": "unknown"
        },
        {
         "name": "240102646V",
         "rawType": "object",
         "type": "unknown"
        },
        {
         "name": "240102820V",
         "rawType": "object",
         "type": "unknown"
        },
        {
         "name": "240103091V",
         "rawType": "object",
         "type": "unknown"
        },
        {
         "name": "240103178V",
         "rawType": "object",
         "type": "unknown"
        },
        {
         "name": "240103678V",
         "rawType": "object",
         "type": "unknown"
        },
        {
         "name": "240103766V",
         "rawType": "object",
         "type": "unknown"
        },
        {
         "name": "240104500V",
         "rawType": "object",
         "type": "unknown"
        },
        {
         "name": "240104640V",
         "rawType": "object",
         "type": "unknown"
        },
        {
         "name": "240105077V",
         "rawType": "object",
         "type": "unknown"
        },
        {
         "name": "240105109V",
         "rawType": "object",
         "type": "unknown"
        },
        {
         "name": "240105110V",
         "rawType": "object",
         "type": "unknown"
        },
        {
         "name": "240105246V",
         "rawType": "object",
         "type": "unknown"
        },
        {
         "name": "240106497V",
         "rawType": "object",
         "type": "unknown"
        },
        {
         "name": "240106548V",
         "rawType": "object",
         "type": "unknown"
        },
        {
         "name": "240107120V",
         "rawType": "object",
         "type": "unknown"
        },
        {
         "name": "240107216V",
         "rawType": "object",
         "type": "unknown"
        },
        {
         "name": "240107622V",
         "rawType": "object",
         "type": "unknown"
        },
        {
         "name": "240107837V",
         "rawType": "object",
         "type": "unknown"
        },
        {
         "name": "240108098V",
         "rawType": "object",
         "type": "unknown"
        },
        {
         "name": "240108155V",
         "rawType": "object",
         "type": "unknown"
        },
        {
         "name": "240108592V",
         "rawType": "object",
         "type": "unknown"
        },
        {
         "name": "240108849V",
         "rawType": "object",
         "type": "unknown"
        },
        {
         "name": "240109138V",
         "rawType": "object",
         "type": "unknown"
        },
        {
         "name": "240109407V",
         "rawType": "object",
         "type": "unknown"
        },
        {
         "name": "240109580V",
         "rawType": "object",
         "type": "unknown"
        },
        {
         "name": "SN1",
         "rawType": "object",
         "type": "unknown"
        },
        {
         "name": "SN2",
         "rawType": "object",
         "type": "unknown"
        },
        {
         "name": "Sup Grp",
         "rawType": "object",
         "type": "unknown"
        },
        {
         "name": "DES",
         "rawType": "object",
         "type": "unknown"
        }
       ],
       "conversionMethod": "pd.DataFrame",
       "ref": "be1b2461-3ca5-4dc4-b9e7-e15494d5343a",
       "rows": [
        [
         "102",
         "(LHDG&&(FSE06))||FSE07",
         null,
         "Single Wire",
         "248",
         "151",
         null,
         "2340",
         "R",
         "COFLRYB",
         "0.5",
         "COFLRYB-0.5",
         "180FW403950",
         null,
         null,
         null,
         null,
         null,
         "377-32A",
         "C54",
         null,
         null,
         null,
         null,
         "20",
         "7116428802",
         "3.5",
         null,
         null,
         "7219192930",
         "37 / Q",
         "NO",
         "Single",
         null,
         null,
         null,
         null,
         "260BN",
         "C25",
         null,
         null,
         null,
         null,
         "2",
         "7116704502",
         "4.3",
         null,
         null,
         "72878645",
         "5 / Q",
         "YES",
         "Single",
         null,
         null,
         null,
         "0",
         "0",
         "1",
         "0",
         "0",
         "0",
         "0",
         "0",
         "0",
         "0",
         "0",
         "0",
         "1",
         "0",
         "0",
         "0",
         "0",
         "0",
         "0",
         "0",
         "0",
         "1",
         "0",
         "0",
         "1",
         "0",
         "0",
         "0",
         "1",
         "0",
         "0",
         "0",
         "0",
         "0",
         "1",
         "0",
         null,
         null,
         null,
         null
        ],
        [
         "103",
         "(LHDG&&(FSE06))||FSE07",
         null,
         "Single Wire",
         "248",
         "151",
         null,
         "2340",
         "R",
         "COFLRYB",
         "0.5",
         "COFLRYB-0.5",
         "180FW403950",
         null,
         null,
         null,
         null,
         null,
         "377-32A",
         "C54",
         null,
         null,
         null,
         null,
         "20",
         "7116428802",
         "3.5",
         null,
         null,
         "7219192930",
         "37 / Q",
         "NO",
         "Single",
         null,
         null,
         null,
         null,
         "260BN",
         "C25",
         null,
         null,
         null,
         null,
         "2",
         "7116725202",
         "4.3",
         null,
         null,
         "72878645",
         "5 / Q",
         "YES",
         "Double",
         "246",
         null,
         null,
         "0",
         "0",
         "0",
         "1",
         "1",
         "0",
         "0",
         "1",
         "0",
         "0",
         "1",
         "0",
         "0",
         "0",
         "1",
         "1",
         "1",
         "1",
         "0",
         "0",
         "0",
         "0",
         "0",
         "1",
         "0",
         "0",
         "1",
         "0",
         "0",
         "0",
         "0",
         "0",
         "1",
         "0",
         "0",
         "1",
         null,
         null,
         null,
         null
        ]
       ],
       "shape": {
        "columns": 94,
        "rows": 2
       }
      },
      "text/html": [
       "<div>\n",
       "<style scoped>\n",
       "    .dataframe tbody tr th:only-of-type {\n",
       "        vertical-align: middle;\n",
       "    }\n",
       "\n",
       "    .dataframe tbody tr th {\n",
       "        vertical-align: top;\n",
       "    }\n",
       "\n",
       "    .dataframe thead th {\n",
       "        text-align: right;\n",
       "    }\n",
       "</style>\n",
       "<table border=\"1\" class=\"dataframe\">\n",
       "  <thead>\n",
       "    <tr style=\"text-align: right;\">\n",
       "      <th></th>\n",
       "      <th>Customer Module/Option</th>\n",
       "      <th>Customer Module/Option Function</th>\n",
       "      <th>Wire Type</th>\n",
       "      <th>Wire Customer Name</th>\n",
       "      <th>Wire Internal Name</th>\n",
       "      <th>Initial Wire Length[Twisted]</th>\n",
       "      <th>Final Wire Length</th>\n",
       "      <th>Wire Color</th>\n",
       "      <th>Wire Kind</th>\n",
       "      <th>Wire Cross-Section</th>\n",
       "      <th>...</th>\n",
       "      <th>240108155V</th>\n",
       "      <th>240108592V</th>\n",
       "      <th>240108849V</th>\n",
       "      <th>240109138V</th>\n",
       "      <th>240109407V</th>\n",
       "      <th>240109580V</th>\n",
       "      <th>SN1</th>\n",
       "      <th>SN2</th>\n",
       "      <th>Sup Grp</th>\n",
       "      <th>DES</th>\n",
       "    </tr>\n",
       "  </thead>\n",
       "  <tbody>\n",
       "    <tr>\n",
       "      <th>102</th>\n",
       "      <td>(LHDG&amp;&amp;(FSE06))||FSE07</td>\n",
       "      <td>NaN</td>\n",
       "      <td>Single Wire</td>\n",
       "      <td>248</td>\n",
       "      <td>151</td>\n",
       "      <td>NaN</td>\n",
       "      <td>2340</td>\n",
       "      <td>R</td>\n",
       "      <td>COFLRYB</td>\n",
       "      <td>0.5</td>\n",
       "      <td>...</td>\n",
       "      <td>0</td>\n",
       "      <td>0</td>\n",
       "      <td>0</td>\n",
       "      <td>0</td>\n",
       "      <td>1</td>\n",
       "      <td>0</td>\n",
       "      <td>None</td>\n",
       "      <td>None</td>\n",
       "      <td>None</td>\n",
       "      <td>None</td>\n",
       "    </tr>\n",
       "    <tr>\n",
       "      <th>103</th>\n",
       "      <td>(LHDG&amp;&amp;(FSE06))||FSE07</td>\n",
       "      <td>NaN</td>\n",
       "      <td>Single Wire</td>\n",
       "      <td>248</td>\n",
       "      <td>151</td>\n",
       "      <td>NaN</td>\n",
       "      <td>2340</td>\n",
       "      <td>R</td>\n",
       "      <td>COFLRYB</td>\n",
       "      <td>0.5</td>\n",
       "      <td>...</td>\n",
       "      <td>0</td>\n",
       "      <td>0</td>\n",
       "      <td>1</td>\n",
       "      <td>0</td>\n",
       "      <td>0</td>\n",
       "      <td>1</td>\n",
       "      <td>None</td>\n",
       "      <td>None</td>\n",
       "      <td>None</td>\n",
       "      <td>None</td>\n",
       "    </tr>\n",
       "  </tbody>\n",
       "</table>\n",
       "<p>2 rows × 94 columns</p>\n",
       "</div>"
      ],
      "text/plain": [
       "     Customer Module/Option  Customer Module/Option Function    Wire Type  \\\n",
       "102  (LHDG&&(FSE06))||FSE07                              NaN  Single Wire   \n",
       "103  (LHDG&&(FSE06))||FSE07                              NaN  Single Wire   \n",
       "\n",
       "     Wire Customer Name  Wire Internal Name  Initial Wire Length[Twisted]  \\\n",
       "102                 248                 151                           NaN   \n",
       "103                 248                 151                           NaN   \n",
       "\n",
       "     Final Wire Length Wire Color Wire Kind  Wire Cross-Section  ...  \\\n",
       "102               2340          R   COFLRYB                 0.5  ...   \n",
       "103               2340          R   COFLRYB                 0.5  ...   \n",
       "\n",
       "    240108155V 240108592V 240108849V 240109138V 240109407V  240109580V   SN1  \\\n",
       "102          0          0          0          0          1           0  None   \n",
       "103          0          0          1          0          0           1  None   \n",
       "\n",
       "      SN2 Sup Grp   DES  \n",
       "102  None    None  None  \n",
       "103  None    None  None  \n",
       "\n",
       "[2 rows x 94 columns]"
      ]
     },
     "execution_count": 208,
     "metadata": {},
     "output_type": "execute_result"
    }
   ],
   "source": [
    "df_wire_list[df_wire_list['Wire Internal Name'] == 151]"
   ]
  },
  {
   "cell_type": "code",
   "execution_count": null,
   "metadata": {},
   "outputs": [],
   "source": [
    "import numpy as np\n",
    "\n",
    "for wire in df_wire_list['Wire Internal Name'].unique():\n",
    "   df_wire = df_wire_list[df_wire_list['Wire Internal Name']== wire]\n",
    "   matching_rows = mmsta_sep[mmsta_sep['Wire Internal Name'] == wire]\n",
    "   \n",
    "\n",
    "   if not matching_rows.empty and df_wire.shape[0] > 1:\n",
    "      for i in matching_rows.index:\n",
    "        pene_mmsta = mmsta_sep[mmsta_sep['Wire Internal Name'] == wire].loc[i,PN_columns_mmsta].values\n",
    "        pene_mmsta = np.sum(pene_mmsta, axis = 0)\n",
    "        for i in df_wire.index:\n",
    "           pene_max_wire = df_wire.loc[i,PN_columns_wirelist].values\n",
    "           \n",
    "           \n",
    "           \n",
    "      \n",
    "      # for i in range(matching_rows.shape[0]):\n",
    "      #    mmsta_sep = duplicate_row(df_wire_list, matching_rows.index[i], df_wire.shape[0]-1)\n",
    "   if df_wire.shape[0] > 0 and matching_rows.shape[0] > 0:\n",
    "      keys_for_Wire = [key for key, value in material_to_comp_dict.items() if value == wire]\n",
    "      for key in keys_for_Wire :\n",
    "         col = mmsta_sep.columns[mmsta_sep.isin([key]).any()][0]\n",
    "         pene = np.sum(mmsta_sep[mmsta_sep[col] == key][PN_columns_mmsta].values, axis = 0)\n",
    "         \n",
    "         for val in df_wire[PN_columns_wirelist].values:\n",
    "            pene_max = val\n",
    "            if np.array_equal(pene, pene_max):\n",
    "               index = find_array_index(df_wire[PN_columns_wirelist].values, val)\n",
    "\n",
    "               if int(col[-1]) == 1:\n",
    "                  print(\"lev1\")\n",
    "                  df_wire_list.at[index,'SN1'] = mmsta_sep[mmsta_sep[col] == key]['SN1'].values\n",
    "                  df_wire_list.at[index,'DES'] = mmsta_sep[mmsta_sep[col] == key]['DES1'].values\n",
    "               elif int(col[-1]) == 2:\n",
    "                  print(\"lev2\")\n",
    "                  df_wire_list.at[index,'SN1'] = mmsta_sep[mmsta_sep[col] == key]['SN2'].values\n",
    "                  df_wire_list.at[index,'SN2'] = mmsta_sep[mmsta_sep[col] == key]['SN1'].values\n",
    "                  df_wire_list.at[index,'DES'] = mmsta_sep[mmsta_sep[col] == key]['DES1'].values\n",
    "               elif int(col[-1]) == 3:\n",
    "                  print(\"lev1\")\n",
    "                  df_wire_list.at[index,'SN1'] = mmsta_sep[mmsta_sep[col] == key]['SN3'].values\n",
    "                  df_wire_list.at[index,'SN2'] = mmsta_sep[mmsta_sep[col] == key]['SN2'].values\n",
    "                  df_wire_list.at[index,'sup Grp'] = mmsta_sep[mmsta_sep[col] == key]['SN1'].values\n",
    "                  df_wire_list.at[index,'DES'] = mmsta_sep[mmsta_sep[col] == key]['DES1'].values\n",
    "\n",
    "   # elif df_wire.shape[0] == 1 and matching_rows.shape[0] > 0:\n",
    "      "
   ]
  },
  {
   "cell_type": "code",
   "execution_count": null,
   "metadata": {},
   "outputs": [
    {
     "name": "stdout",
     "output_type": "stream",
     "text": [
      "    Level         SN1                         DES1         SN2  \\\n",
      "81   ***3  S008918897  Super Group 037 See drawing  S008918856   \n",
      "202  ***3  S008918959  Super Group 022 See drawing  S008918856   \n",
      "291  ***3  S008919036  Super Group 035 See drawing  S008918856   \n",
      "305  ***3  S008919038  Super Group 002 See drawing  S008918856   \n",
      "320  ***3  S008919040  Super Group 017 See drawing  S008918856   \n",
      "364  ***3  S008919073  Super Group 005 See drawing  S008918856   \n",
      "\n",
      "                       DES2         SN3                           DES3  \\\n",
      "81   Joint 0636 See drawing  S008915399  Circuit 0001 COFLRYB 1.5 B/BR   \n",
      "202  Joint 0636 See drawing  S008915399  Circuit 0001 COFLRYB 1.5 B/BR   \n",
      "291  Joint 0636 See drawing  S008915399  Circuit 0001 COFLRYB 1.5 B/BR   \n",
      "305  Joint 0636 See drawing  S008915399  Circuit 0001 COFLRYB 1.5 B/BR   \n",
      "320  Joint 0636 See drawing  S008915399  Circuit 0001 COFLRYB 1.5 B/BR   \n",
      "364  Joint 0636 See drawing  S008915399  Circuit 0001 COFLRYB 1.5 B/BR   \n",
      "\n",
      "     240100339V  240100502V  240100622V  ...  240107622V  240107837V  \\\n",
      "81            0           0           0  ...           0           0   \n",
      "202           1           0           1  ...           1           1   \n",
      "291           0           0           0  ...           0           0   \n",
      "305           0           0           0  ...           0           0   \n",
      "320           0           0           0  ...           0           0   \n",
      "364           0           0           0  ...           0           0   \n",
      "\n",
      "     240108098V  240108155V  240108592V  240108849V  240109138V  240109407V  \\\n",
      "81            0           0           0           0           0           0   \n",
      "202           0           0           0           0           1           0   \n",
      "291           0           0           0           0           0           0   \n",
      "305           0           0           0           1           0           0   \n",
      "320           0           0           0           0           0           1   \n",
      "364           0           0           0           0           0           0   \n",
      "\n",
      "     240109580V  Wire Internal Name  \n",
      "81            0               595.0  \n",
      "202           0               595.0  \n",
      "291           0               595.0  \n",
      "305           0               595.0  \n",
      "320           0               595.0  \n",
      "364           1               595.0  \n",
      "\n",
      "[6 rows x 44 columns]\n"
     ]
    },
    {
     "ename": "KeyError",
     "evalue": "True",
     "output_type": "error",
     "traceback": [
      "\u001b[1;31m---------------------------------------------------------------------------\u001b[0m",
      "\u001b[1;31mKeyError\u001b[0m                                  Traceback (most recent call last)",
      "File \u001b[1;32m~\\AppData\\Roaming\\Python\\Python313\\site-packages\\pandas\\core\\indexes\\base.py:3805\u001b[0m, in \u001b[0;36mIndex.get_loc\u001b[1;34m(self, key)\u001b[0m\n\u001b[0;32m   3804\u001b[0m \u001b[38;5;28;01mtry\u001b[39;00m:\n\u001b[1;32m-> 3805\u001b[0m     \u001b[38;5;28;01mreturn\u001b[39;00m \u001b[38;5;28;43mself\u001b[39;49m\u001b[38;5;241;43m.\u001b[39;49m\u001b[43m_engine\u001b[49m\u001b[38;5;241;43m.\u001b[39;49m\u001b[43mget_loc\u001b[49m\u001b[43m(\u001b[49m\u001b[43mcasted_key\u001b[49m\u001b[43m)\u001b[49m\n\u001b[0;32m   3806\u001b[0m \u001b[38;5;28;01mexcept\u001b[39;00m \u001b[38;5;167;01mKeyError\u001b[39;00m \u001b[38;5;28;01mas\u001b[39;00m err:\n",
      "File \u001b[1;32mindex.pyx:167\u001b[0m, in \u001b[0;36mpandas._libs.index.IndexEngine.get_loc\u001b[1;34m()\u001b[0m\n",
      "File \u001b[1;32mindex.pyx:196\u001b[0m, in \u001b[0;36mpandas._libs.index.IndexEngine.get_loc\u001b[1;34m()\u001b[0m\n",
      "File \u001b[1;32mpandas\\\\_libs\\\\hashtable_class_helper.pxi:7081\u001b[0m, in \u001b[0;36mpandas._libs.hashtable.PyObjectHashTable.get_item\u001b[1;34m()\u001b[0m\n",
      "File \u001b[1;32mpandas\\\\_libs\\\\hashtable_class_helper.pxi:7089\u001b[0m, in \u001b[0;36mpandas._libs.hashtable.PyObjectHashTable.get_item\u001b[1;34m()\u001b[0m\n",
      "\u001b[1;31mKeyError\u001b[0m: True",
      "\nThe above exception was the direct cause of the following exception:\n",
      "\u001b[1;31mKeyError\u001b[0m                                  Traceback (most recent call last)",
      "Cell \u001b[1;32mIn[28], line 39\u001b[0m\n\u001b[0;32m     34\u001b[0m                     df_wire_list\u001b[38;5;241m.\u001b[39mat[index\u001b[38;5;241m+\u001b[39mi, \u001b[38;5;124m'\u001b[39m\u001b[38;5;124mDES\u001b[39m\u001b[38;5;124m'\u001b[39m] \u001b[38;5;241m=\u001b[39m match[\u001b[38;5;124m'\u001b[39m\u001b[38;5;124mDES1\u001b[39m\u001b[38;5;124m'\u001b[39m]\n\u001b[0;32m     37\u001b[0m     \u001b[38;5;28;01mreturn\u001b[39;00m df_wire_list\n\u001b[1;32m---> 39\u001b[0m df_wire \u001b[38;5;241m=\u001b[39m \u001b[43mpopulate_wire_list_from_mmsta\u001b[49m\u001b[43m(\u001b[49m\u001b[43mdf_wire_list\u001b[49m\u001b[43m,\u001b[49m\u001b[43m \u001b[49m\u001b[43mmmsta_sep\u001b[49m\u001b[43m)\u001b[49m\n\u001b[0;32m     41\u001b[0m \u001b[38;5;66;03m# df_wire_list[['Wire Internal Name', 'SN1', 'SN2', 'Sup Grp', 'DES']].sample(10)\u001b[39;00m\n",
      "Cell \u001b[1;32mIn[28], line 15\u001b[0m, in \u001b[0;36mpopulate_wire_list_from_mmsta\u001b[1;34m(df_wire_list, mmsta_sep)\u001b[0m\n\u001b[0;32m      6\u001b[0m \u001b[38;5;28mprint\u001b[39m(matching_rows)\n\u001b[0;32m      8\u001b[0m \u001b[38;5;28;01mif\u001b[39;00m \u001b[38;5;129;01mnot\u001b[39;00m matching_rows\u001b[38;5;241m.\u001b[39mempty:\n\u001b[0;32m      9\u001b[0m     \u001b[38;5;66;03m# Get the first matching row\u001b[39;00m\n\u001b[0;32m     10\u001b[0m     \u001b[38;5;66;03m# print(matching_rows)\u001b[39;00m\n\u001b[1;32m   (...)\u001b[0m\n\u001b[0;32m     13\u001b[0m     \u001b[38;5;66;03m#     return\u001b[39;00m\n\u001b[0;32m     14\u001b[0m     \u001b[38;5;66;03m# print(matching_rows.shape)\u001b[39;00m\n\u001b[1;32m---> 15\u001b[0m     \u001b[38;5;28;01mfor\u001b[39;00m i \u001b[38;5;129;01min\u001b[39;00m \u001b[38;5;28mrange\u001b[39m(\u001b[43mmatching_rows\u001b[49m\u001b[43m[\u001b[49m\u001b[43mmatching_rows\u001b[49m\u001b[38;5;241;43m.\u001b[39;49m\u001b[43miloc\u001b[49m\u001b[43m[\u001b[49m\u001b[38;5;241;43m0\u001b[39;49m\u001b[43m]\u001b[49m\u001b[43m[\u001b[49m\u001b[38;5;124;43m'\u001b[39;49m\u001b[38;5;124;43mSN3\u001b[39;49m\u001b[38;5;124;43m'\u001b[39;49m\u001b[43m]\u001b[49m\u001b[43m \u001b[49m\u001b[38;5;241;43m==\u001b[39;49m\u001b[43m \u001b[49m\u001b[38;5;124;43m'\u001b[39;49m\u001b[38;5;124;43mS008915399\u001b[39;49m\u001b[38;5;124;43m'\u001b[39;49m\u001b[43m]\u001b[49m\u001b[38;5;241m.\u001b[39mshape[\u001b[38;5;241m0\u001b[39m]):\n\u001b[0;32m     16\u001b[0m         match \u001b[38;5;241m=\u001b[39m matching_rows\u001b[38;5;241m.\u001b[39miloc[i]\n\u001b[0;32m     17\u001b[0m         \u001b[38;5;28mprint\u001b[39m(match)\n",
      "File \u001b[1;32m~\\AppData\\Roaming\\Python\\Python313\\site-packages\\pandas\\core\\frame.py:4102\u001b[0m, in \u001b[0;36mDataFrame.__getitem__\u001b[1;34m(self, key)\u001b[0m\n\u001b[0;32m   4100\u001b[0m \u001b[38;5;28;01mif\u001b[39;00m \u001b[38;5;28mself\u001b[39m\u001b[38;5;241m.\u001b[39mcolumns\u001b[38;5;241m.\u001b[39mnlevels \u001b[38;5;241m>\u001b[39m \u001b[38;5;241m1\u001b[39m:\n\u001b[0;32m   4101\u001b[0m     \u001b[38;5;28;01mreturn\u001b[39;00m \u001b[38;5;28mself\u001b[39m\u001b[38;5;241m.\u001b[39m_getitem_multilevel(key)\n\u001b[1;32m-> 4102\u001b[0m indexer \u001b[38;5;241m=\u001b[39m \u001b[38;5;28;43mself\u001b[39;49m\u001b[38;5;241;43m.\u001b[39;49m\u001b[43mcolumns\u001b[49m\u001b[38;5;241;43m.\u001b[39;49m\u001b[43mget_loc\u001b[49m\u001b[43m(\u001b[49m\u001b[43mkey\u001b[49m\u001b[43m)\u001b[49m\n\u001b[0;32m   4103\u001b[0m \u001b[38;5;28;01mif\u001b[39;00m is_integer(indexer):\n\u001b[0;32m   4104\u001b[0m     indexer \u001b[38;5;241m=\u001b[39m [indexer]\n",
      "File \u001b[1;32m~\\AppData\\Roaming\\Python\\Python313\\site-packages\\pandas\\core\\indexes\\base.py:3812\u001b[0m, in \u001b[0;36mIndex.get_loc\u001b[1;34m(self, key)\u001b[0m\n\u001b[0;32m   3807\u001b[0m     \u001b[38;5;28;01mif\u001b[39;00m \u001b[38;5;28misinstance\u001b[39m(casted_key, \u001b[38;5;28mslice\u001b[39m) \u001b[38;5;129;01mor\u001b[39;00m (\n\u001b[0;32m   3808\u001b[0m         \u001b[38;5;28misinstance\u001b[39m(casted_key, abc\u001b[38;5;241m.\u001b[39mIterable)\n\u001b[0;32m   3809\u001b[0m         \u001b[38;5;129;01mand\u001b[39;00m \u001b[38;5;28many\u001b[39m(\u001b[38;5;28misinstance\u001b[39m(x, \u001b[38;5;28mslice\u001b[39m) \u001b[38;5;28;01mfor\u001b[39;00m x \u001b[38;5;129;01min\u001b[39;00m casted_key)\n\u001b[0;32m   3810\u001b[0m     ):\n\u001b[0;32m   3811\u001b[0m         \u001b[38;5;28;01mraise\u001b[39;00m InvalidIndexError(key)\n\u001b[1;32m-> 3812\u001b[0m     \u001b[38;5;28;01mraise\u001b[39;00m \u001b[38;5;167;01mKeyError\u001b[39;00m(key) \u001b[38;5;28;01mfrom\u001b[39;00m\u001b[38;5;250m \u001b[39m\u001b[38;5;21;01merr\u001b[39;00m\n\u001b[0;32m   3813\u001b[0m \u001b[38;5;28;01mexcept\u001b[39;00m \u001b[38;5;167;01mTypeError\u001b[39;00m:\n\u001b[0;32m   3814\u001b[0m     \u001b[38;5;66;03m# If we have a listlike key, _check_indexing_error will raise\u001b[39;00m\n\u001b[0;32m   3815\u001b[0m     \u001b[38;5;66;03m#  InvalidIndexError. Otherwise we fall through and re-raise\u001b[39;00m\n\u001b[0;32m   3816\u001b[0m     \u001b[38;5;66;03m#  the TypeError.\u001b[39;00m\n\u001b[0;32m   3817\u001b[0m     \u001b[38;5;28mself\u001b[39m\u001b[38;5;241m.\u001b[39m_check_indexing_error(key)\n",
      "\u001b[1;31mKeyError\u001b[0m: True"
     ]
    }
   ],
   "source": [
    "def populate_wire_list_from_mmsta(df_wire_list, mmsta_sep):\n",
    "    for index, row in df_wire_list.iterrows():\n",
    "        wire_internal_name = row['Wire Internal Name']\n",
    "        \n",
    "        matching_rows = mmsta_sep[mmsta_sep['Wire Internal Name'] == wire_internal_name]\n",
    "        print(matching_rows)\n",
    "        \n",
    "        if not matching_rows.empty:\n",
    "            # Get the first matching row\n",
    "            # print(matching_rows)\n",
    "            # if matching_rows.iloc[0]['SN3'] == 'S008915399':\n",
    "            #     print(matching_rows.iloc[0:]['SN1'] )\n",
    "            #     return\n",
    "            # print(matching_rows.shape)\n",
    "            for i in range(matching_rows.shape[0]):\n",
    "                match = matching_rows.iloc[i]\n",
    "                \n",
    "                level = match['Level']\n",
    "                \n",
    "                if level == '***3' :\n",
    "                    df_wire_list.at[index+i, 'SN1'] = match['SN3']\n",
    "                    df_wire_list.at[index+i, 'SN2'] = match['SN2']\n",
    "                    df_wire_list.at[index+i, 'Sup Grp'] = match['SN1']\n",
    "                    df_wire_list.at[index+i, 'DES'] = match['DES3']\n",
    "                \n",
    "                elif level == '**2':\n",
    "                    df_wire_list.at[index+i, 'SN1'] = match['SN2']\n",
    "                    df_wire_list.at[index+i, 'SN2'] = match['SN1']\n",
    "                    df_wire_list.at[index+i, 'DES'] = match['DES2']\n",
    "                    \n",
    "                elif level == '*1':\n",
    "                    df_wire_list.at[index+i, 'SN1'] = match['SN1']\n",
    "                    df_wire_list.at[index+i, 'DES'] = match['DES1']\n",
    "                \n",
    "    \n",
    "    return df_wire_list\n",
    "\n",
    "df_wire = populate_wire_list_from_mmsta(df_wire_list, mmsta_sep)\n",
    "\n",
    "# df_wire_list[['Wire Internal Name', 'SN1', 'SN2', 'Sup Grp', 'DES']].sample(10)"
   ]
  },
  {
   "cell_type": "code",
   "execution_count": 26,
   "metadata": {},
   "outputs": [],
   "source": [
    "df_wire.to_excel('../Data/updated.xlsx', index=False)"
   ]
  },
  {
   "cell_type": "code",
   "execution_count": null,
   "metadata": {},
   "outputs": [],
   "source": []
  },
  {
   "cell_type": "code",
   "execution_count": null,
   "metadata": {},
   "outputs": [],
   "source": []
  },
  {
   "cell_type": "code",
   "execution_count": null,
   "metadata": {},
   "outputs": [],
   "source": []
  },
  {
   "cell_type": "code",
   "execution_count": null,
   "metadata": {},
   "outputs": [],
   "source": [
    "df_wire_list.columns[54:-4]"
   ]
  },
  {
   "cell_type": "code",
   "execution_count": null,
   "metadata": {},
   "outputs": [],
   "source": []
  }
 ],
 "metadata": {
  "kernelspec": {
   "display_name": "rpa_env",
   "language": "python",
   "name": "python3"
  },
  "language_info": {
   "codemirror_mode": {
    "name": "ipython",
    "version": 3
   },
   "file_extension": ".py",
   "mimetype": "text/x-python",
   "name": "python",
   "nbconvert_exporter": "python",
   "pygments_lexer": "ipython3",
   "version": "3.13.2"
  }
 },
 "nbformat": 4,
 "nbformat_minor": 2
}
