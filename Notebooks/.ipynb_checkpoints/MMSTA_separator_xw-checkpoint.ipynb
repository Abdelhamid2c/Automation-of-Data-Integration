{
 "cells": [
  {
   "cell_type": "code",
   "execution_count": 1,
   "id": "90f62dfd-385e-4d0e-ad7d-f529403b81e5",
   "metadata": {},
   "outputs": [],
   "source": [
    "import time\n",
    "start_time = time.time()"
   ]
  },
  {
   "cell_type": "code",
   "execution_count": 2,
   "id": "47062abe-deee-4df2-91ed-3ce3cc576838",
   "metadata": {},
   "outputs": [],
   "source": [
    "import xlwings as xw\n",
    "import pandas as pd"
   ]
  },
  {
   "cell_type": "code",
   "execution_count": 3,
   "id": "e615d1f1-f767-45c4-8e0d-f0951ca9c0de",
   "metadata": {},
   "outputs": [],
   "source": [
    "MMSTA_path = \"../Data/Raw/MMSTA UPLOAD DHN BENITA LOWDASH.XLSX\""
   ]
  },
  {
   "cell_type": "code",
   "execution_count": 4,
   "id": "5be7e830-66ae-44bc-92bc-f83b68a08a85",
   "metadata": {},
   "outputs": [],
   "source": [
    "# wb = xw.Book(MMSTA_path)\n",
    "# sheet_mmsta = wb.sheets[0]"
   ]
  },
  {
   "cell_type": "code",
   "execution_count": 5,
   "id": "565585f3-e6d5-4217-b756-b141a3f15034",
   "metadata": {},
   "outputs": [],
   "source": [
    "app = xw.App(visible=True)  \n",
    "wb = app.books.open(MMSTA_path)\n",
    "sheet_mmsta = wb.sheets[0]"
   ]
  },
  {
   "cell_type": "code",
   "execution_count": 6,
   "id": "65109ee6-0bf7-48f0-ba2e-6ef8ff0aa4a9",
   "metadata": {},
   "outputs": [],
   "source": [
    "df_mmsta = pd.read_excel(MMSTA_path)\n",
    "# df_mmsta.head(5)"
   ]
  },
  {
   "cell_type": "code",
   "execution_count": 7,
   "id": "c34e4b69-1f8e-46d0-8d8d-52713bc95311",
   "metadata": {},
   "outputs": [
    {
     "data": {
      "text/plain": [
       "Index(['Level', 'Plant', 'Material Type', 'Material', 'Material Description',\n",
       "       'Bill of material', 'Plant-sp.matl status', 'Plant-sp.matl status.1',\n",
       "       'BOM status', 'BOM status.1', 'Change Number', 'Changed on',\n",
       "       'MRP Controller', 'MRP Controller.1', 'MRP profile', 'MRP profile.1',\n",
       "       'Lot size', 'Minimum Lot Size', 'Rounding value',\n",
       "       'Spare part indicator', 'Item Category', 'Component unit',\n",
       "       'Component quantity', 'Status'],\n",
       "      dtype='object')"
      ]
     },
     "execution_count": 7,
     "metadata": {},
     "output_type": "execute_result"
    }
   ],
   "source": [
    "df_mmsta.columns"
   ]
  },
  {
   "cell_type": "code",
   "execution_count": 8,
   "id": "f3f85900-451b-487e-85bc-e0fe56002310",
   "metadata": {},
   "outputs": [],
   "source": [
    "indx_1 = sheet_mmsta.range(\"1:1\").value.index(\"Component quantity\")+1\n",
    "sheet_mmsta.range((1, indx_1)).api.EntireColumn.Insert()\n",
    "sheet_mmsta.range((1, indx_1)).value = \"PN\""
   ]
  },
  {
   "cell_type": "code",
   "execution_count": 9,
   "id": "8e7e8dda-3689-4d3c-87db-1c36d9a0579e",
   "metadata": {},
   "outputs": [],
   "source": [
    "def Fill(level : str):\n",
    "    # PN_arr = []\n",
    "    for idx in range(df_mmsta.shape[0]):\n",
    "        if df_mmsta.loc[:,'Level'][idx] == level:\n",
    "            # PN_arr.append(df_mmsta.loc[idx]['Material Description'])\n",
    "            sheet_mmsta.range((2+idx, indx_1)).value = df_mmsta.loc[idx]['Material Description']\n",
    "            idx_last_l = idx\n",
    "        else :\n",
    "            # PN_arr.append(df_mmsta.loc[i]['Material Description'])\n",
    "            sheet_mmsta.range((2+idx, indx_1)).value = df_mmsta.loc[idx_last_l]['Material Description']\n",
    "    return sheet_mmsta\n",
    "\n",
    "def Fill_with_col(level : str, ind_col : int, data_value_col):\n",
    "    # PN_arr = []\n",
    "    for idx in range(df_mmsta.shape[0]):\n",
    "        if df_mmsta.loc[:,'Level'][idx] == level:\n",
    "            # PN_arr.append(df_mmsta.loc[idx]['Material Description'])\n",
    "            sheet_mmsta.range((2+ind_col, indx_1)).value = df_mmsta.loc[idx][data_value_col]\n",
    "            idx_last_l = idx\n",
    "        else :\n",
    "            # PN_arr.append(df_mmsta.loc[i]['Material Description'])\n",
    "            sheet_mmsta.range((2+ind_col, indx_1)).value = df_mmsta.loc[idx_last_l][data_value_col]\n",
    "    return sheet_mmsta"
   ]
  },
  {
   "cell_type": "code",
   "execution_count": 10,
   "id": "7b910ee2-f457-4803-91b8-1b44367464db",
   "metadata": {},
   "outputs": [],
   "source": [
    "sheet_mmsta = Fill('0')"
   ]
  },
  {
   "cell_type": "code",
   "execution_count": 12,
   "id": "9b8d290e-f256-4982-a4bd-66cce665e6b9",
   "metadata": {},
   "outputs": [],
   "source": [
    "def delete_YFG_YDM():\n",
    "    return df_mmsta[~df_mmsta['Material Type'].isin(['YFG', 'YDM'])].drop(columns = ['Plant'])\n",
    "df_mmsta = delete_YFG_YDM()"
   ]
  },
  {
   "cell_type": "code",
   "execution_count": 14,
   "id": "246b9ca2-3d56-491f-8927-15e721fdc2c1",
   "metadata": {},
   "outputs": [
    {
     "name": "stdout",
     "output_type": "stream",
     "text": [
      "Temps d'exécution : 104.68865036964417 minutes\n"
     ]
    }
   ],
   "source": [
    "end_time = time.time()\n",
    "\n",
    "execution_time = end_time - start_time\n",
    "print(f\"Temps d'exécution : {execution_time / 60} minutes\")"
   ]
  },
  {
   "cell_type": "code",
   "execution_count": null,
   "id": "32f0f3c2-9d6d-4aac-ae0b-556d906251dd",
   "metadata": {},
   "outputs": [],
   "source": [
    "wb.sheets.add('New Sheet')"
   ]
  },
  {
   "cell_type": "code",
   "execution_count": 17,
   "id": "252fa24d-1eda-453c-9835-bfe7be54dc0d",
   "metadata": {},
   "outputs": [],
   "source": [
    "new_sheet = wb.sheets[0]"
   ]
  },
  {
   "cell_type": "code",
   "execution_count": 18,
   "id": "c58a93f9-1951-47c1-94ad-86385ff8adc6",
   "metadata": {},
   "outputs": [],
   "source": [
    "new_sheet.range(\"A1\").value = df_mmsta"
   ]
  },
  {
   "cell_type": "code",
   "execution_count": 64,
   "id": "466be51b-5827-4ce6-95f8-108c8d8be445",
   "metadata": {},
   "outputs": [],
   "source": [
    "def add_columns():\n",
    "    global pos_col\n",
    "    cols_to_add = ['SN1','DES1', 'SN2','DES2', 'SN3','DES3']\n",
    "    pos_col = dict()\n",
    "    \n",
    "    indx_previous_col = sheet_mmsta.range(\"1:1\").value.index(\"PN\")+1\n",
    "    \n",
    "    for col in cols_to_add :    \n",
    "        sheet_mmsta.range((1, indx_previous_col)).api.EntireColumn.Insert()\n",
    "        sheet_mmsta.range((1, indx_previous_col)).value = f\"{col}\"\n",
    "        pos_col[indx_previous_col] = f\"{col}\"\n",
    "        indx_previous_col = sheet_mmsta.range(\"1:1\").value.index(f\"{col}\")+1\n",
    "    return sheet_mmsta"
   ]
  },
  {
   "cell_type": "code",
   "execution_count": 37,
   "id": "a4b72d59-14dc-4873-9004-a909bcd31a56",
   "metadata": {},
   "outputs": [
    {
     "name": "stdout",
     "output_type": "stream",
     "text": [
      "a\n",
      "b\n",
      "c\n"
     ]
    }
   ],
   "source": [
    "levels = ['*1', '**2', '***3']\n",
    "\n",
    "def fill_added_col():\n",
    "    i = 0\n",
    "    for col in pos_col.items() :\n",
    "        if col[1].startswith(S) :\n",
    "            sheet_mmsta = Fill_with_col(levels[i], col[0], 'Material')\n",
    "            i = i + 1\n",
    "        elif col[1].startswith(D) :\n",
    "            sheet_mmsta = Fill_with_col(levels[i - 1], col[0], 'Material Description')\n",
    "                 \n",
    "                   "
   ]
  },
  {
   "cell_type": "code",
   "execution_count": null,
   "id": "0c2d991d-f548-4867-992b-b67a87003dd5",
   "metadata": {},
   "outputs": [],
   "source": [
    "dc = {\n",
    "    'key1' : 'val',\n",
    "    'key3' : 'val2',\n",
    "    'key3' : 'val3'\n",
    "}\n",
    "\n",
    "for v in dc.items():\n",
    "    print(v)"
   ]
  },
  {
   "cell_type": "code",
   "execution_count": 51,
   "id": "c1d3f083-dc59-4470-973b-448adc921747",
   "metadata": {},
   "outputs": [],
   "source": []
  },
  {
   "cell_type": "code",
   "execution_count": null,
   "id": "531eedb7-02f1-4aa1-af37-adbf31fa5bc7",
   "metadata": {},
   "outputs": [],
   "source": []
  }
 ],
 "metadata": {
  "kernelspec": {
   "display_name": "Python 3 (ipykernel)",
   "language": "python",
   "name": "python3"
  },
  "language_info": {
   "codemirror_mode": {
    "name": "ipython",
    "version": 3
   },
   "file_extension": ".py",
   "mimetype": "text/x-python",
   "name": "python",
   "nbconvert_exporter": "python",
   "pygments_lexer": "ipython3",
   "version": "3.13.2"
  }
 },
 "nbformat": 4,
 "nbformat_minor": 5
}
