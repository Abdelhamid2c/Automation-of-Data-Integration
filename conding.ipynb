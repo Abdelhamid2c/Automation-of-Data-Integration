{
 "cells": [
  {
   "cell_type": "code",
   "execution_count": 175,
   "metadata": {},
   "outputs": [],
   "source": [
    "import pandas as pd"
   ]
  },
  {
   "cell_type": "code",
   "execution_count": 176,
   "metadata": {},
   "outputs": [
    {
     "data": {
      "application/vnd.microsoft.datawrangler.viewer.v0+json": {
       "columns": [
        {
         "name": "index",
         "rawType": "int64",
         "type": "integer"
        },
        {
         "name": "Wire",
         "rawType": "int64",
         "type": "integer"
        },
        {
         "name": "SN",
         "rawType": "object",
         "type": "string"
        },
        {
         "name": "x1",
         "rawType": "int64",
         "type": "integer"
        },
        {
         "name": "x2",
         "rawType": "int64",
         "type": "integer"
        },
        {
         "name": "x3",
         "rawType": "int64",
         "type": "integer"
        },
        {
         "name": "x4",
         "rawType": "int64",
         "type": "integer"
        }
       ],
       "conversionMethod": "pd.DataFrame",
       "ref": "dc68071a-b95d-4f09-903f-05287b4ff65a",
       "rows": [
        [
         "0",
         "151",
         "S88",
         "1",
         "1",
         "0",
         "1"
        ],
        [
         "1",
         "76",
         "S99",
         "1",
         "1",
         "1",
         "1"
        ],
        [
         "2",
         "23",
         "S11",
         "0",
         "1",
         "1",
         "1"
        ],
        [
         "3",
         "76",
         "S110",
         "1",
         "1",
         "1",
         "1"
        ],
        [
         "4",
         "6",
         "S44",
         "1",
         "0",
         "0",
         "1"
        ],
        [
         "5",
         "151",
         "S11",
         "0",
         "0",
         "0",
         "1"
        ]
       ],
       "shape": {
        "columns": 6,
        "rows": 6
       }
      },
      "text/html": [
       "<div>\n",
       "<style scoped>\n",
       "    .dataframe tbody tr th:only-of-type {\n",
       "        vertical-align: middle;\n",
       "    }\n",
       "\n",
       "    .dataframe tbody tr th {\n",
       "        vertical-align: top;\n",
       "    }\n",
       "\n",
       "    .dataframe thead th {\n",
       "        text-align: right;\n",
       "    }\n",
       "</style>\n",
       "<table border=\"1\" class=\"dataframe\">\n",
       "  <thead>\n",
       "    <tr style=\"text-align: right;\">\n",
       "      <th></th>\n",
       "      <th>Wire</th>\n",
       "      <th>SN</th>\n",
       "      <th>x1</th>\n",
       "      <th>x2</th>\n",
       "      <th>x3</th>\n",
       "      <th>x4</th>\n",
       "    </tr>\n",
       "  </thead>\n",
       "  <tbody>\n",
       "    <tr>\n",
       "      <th>0</th>\n",
       "      <td>151</td>\n",
       "      <td>S88</td>\n",
       "      <td>1</td>\n",
       "      <td>1</td>\n",
       "      <td>0</td>\n",
       "      <td>1</td>\n",
       "    </tr>\n",
       "    <tr>\n",
       "      <th>1</th>\n",
       "      <td>76</td>\n",
       "      <td>S99</td>\n",
       "      <td>1</td>\n",
       "      <td>1</td>\n",
       "      <td>1</td>\n",
       "      <td>1</td>\n",
       "    </tr>\n",
       "    <tr>\n",
       "      <th>2</th>\n",
       "      <td>23</td>\n",
       "      <td>S11</td>\n",
       "      <td>0</td>\n",
       "      <td>1</td>\n",
       "      <td>1</td>\n",
       "      <td>1</td>\n",
       "    </tr>\n",
       "    <tr>\n",
       "      <th>3</th>\n",
       "      <td>76</td>\n",
       "      <td>S110</td>\n",
       "      <td>1</td>\n",
       "      <td>1</td>\n",
       "      <td>1</td>\n",
       "      <td>1</td>\n",
       "    </tr>\n",
       "    <tr>\n",
       "      <th>4</th>\n",
       "      <td>6</td>\n",
       "      <td>S44</td>\n",
       "      <td>1</td>\n",
       "      <td>0</td>\n",
       "      <td>0</td>\n",
       "      <td>1</td>\n",
       "    </tr>\n",
       "    <tr>\n",
       "      <th>5</th>\n",
       "      <td>151</td>\n",
       "      <td>S11</td>\n",
       "      <td>0</td>\n",
       "      <td>0</td>\n",
       "      <td>0</td>\n",
       "      <td>1</td>\n",
       "    </tr>\n",
       "  </tbody>\n",
       "</table>\n",
       "</div>"
      ],
      "text/plain": [
       "   Wire    SN  x1  x2  x3  x4\n",
       "0   151   S88   1   1   0   1\n",
       "1    76   S99   1   1   1   1\n",
       "2    23   S11   0   1   1   1\n",
       "3    76  S110   1   1   1   1\n",
       "4     6   S44   1   0   0   1\n",
       "5   151   S11   0   0   0   1"
      ]
     },
     "execution_count": 176,
     "metadata": {},
     "output_type": "execute_result"
    }
   ],
   "source": [
    "\n",
    "data = {\n",
    "    'Wire': [151, 76, 23, 76, 6, 151],\n",
    "    'SN': ['S88', 'S99', 'S11', 'S110', 'S44', 'S11'],\n",
    "    'x1': [1, 1, 0, 1, 1, 0],\n",
    "    'x2': [1, 1, 1, 1, 0, 0],\n",
    "    'x3': [0, 1, 1, 1, 0, 0],\n",
    "    'x4': [1, 1, 1, 1, 1, 1]\n",
    "}\n",
    "\n",
    "ypp = pd.DataFrame(data)\n",
    "ypp\n"
   ]
  },
  {
   "cell_type": "code",
   "execution_count": 177,
   "metadata": {},
   "outputs": [
    {
     "data": {
      "application/vnd.microsoft.datawrangler.viewer.v0+json": {
       "columns": [
        {
         "name": "index",
         "rawType": "int64",
         "type": "integer"
        },
        {
         "name": "SN1",
         "rawType": "object",
         "type": "string"
        },
        {
         "name": "SN2",
         "rawType": "object",
         "type": "string"
        },
        {
         "name": "SN3",
         "rawType": "object",
         "type": "string"
        },
        {
         "name": "x1",
         "rawType": "int64",
         "type": "integer"
        },
        {
         "name": "x2",
         "rawType": "int64",
         "type": "integer"
        },
        {
         "name": "x3",
         "rawType": "int64",
         "type": "integer"
        },
        {
         "name": "x4",
         "rawType": "int64",
         "type": "integer"
        }
       ],
       "conversionMethod": "pd.DataFrame",
       "ref": "53af0f73-f091-4893-885a-74df262a4be8",
       "rows": [
        [
         "0",
         "S1",
         "S333",
         "S11",
         "0",
         "0",
         "0",
         "1"
        ],
        [
         "1",
         "S12",
         "S54",
         "",
         "0",
         "0",
         "0",
         "1"
        ],
        [
         "2",
         "S65",
         "S111",
         "S99",
         "1",
         "1",
         "1",
         "1"
        ],
        [
         "3",
         "S102",
         "S876",
         "S44",
         "1",
         "0",
         "0",
         "1"
        ],
        [
         "4",
         "S101",
         "S876",
         "S88",
         "1",
         "1",
         "0",
         "1"
        ]
       ],
       "shape": {
        "columns": 7,
        "rows": 5
       }
      },
      "text/html": [
       "<div>\n",
       "<style scoped>\n",
       "    .dataframe tbody tr th:only-of-type {\n",
       "        vertical-align: middle;\n",
       "    }\n",
       "\n",
       "    .dataframe tbody tr th {\n",
       "        vertical-align: top;\n",
       "    }\n",
       "\n",
       "    .dataframe thead th {\n",
       "        text-align: right;\n",
       "    }\n",
       "</style>\n",
       "<table border=\"1\" class=\"dataframe\">\n",
       "  <thead>\n",
       "    <tr style=\"text-align: right;\">\n",
       "      <th></th>\n",
       "      <th>SN1</th>\n",
       "      <th>SN2</th>\n",
       "      <th>SN3</th>\n",
       "      <th>x1</th>\n",
       "      <th>x2</th>\n",
       "      <th>x3</th>\n",
       "      <th>x4</th>\n",
       "    </tr>\n",
       "  </thead>\n",
       "  <tbody>\n",
       "    <tr>\n",
       "      <th>0</th>\n",
       "      <td>S1</td>\n",
       "      <td>S333</td>\n",
       "      <td>S11</td>\n",
       "      <td>0</td>\n",
       "      <td>0</td>\n",
       "      <td>0</td>\n",
       "      <td>1</td>\n",
       "    </tr>\n",
       "    <tr>\n",
       "      <th>1</th>\n",
       "      <td>S12</td>\n",
       "      <td>S54</td>\n",
       "      <td></td>\n",
       "      <td>0</td>\n",
       "      <td>0</td>\n",
       "      <td>0</td>\n",
       "      <td>1</td>\n",
       "    </tr>\n",
       "    <tr>\n",
       "      <th>2</th>\n",
       "      <td>S65</td>\n",
       "      <td>S111</td>\n",
       "      <td>S99</td>\n",
       "      <td>1</td>\n",
       "      <td>1</td>\n",
       "      <td>1</td>\n",
       "      <td>1</td>\n",
       "    </tr>\n",
       "    <tr>\n",
       "      <th>3</th>\n",
       "      <td>S102</td>\n",
       "      <td>S876</td>\n",
       "      <td>S44</td>\n",
       "      <td>1</td>\n",
       "      <td>0</td>\n",
       "      <td>0</td>\n",
       "      <td>1</td>\n",
       "    </tr>\n",
       "    <tr>\n",
       "      <th>4</th>\n",
       "      <td>S101</td>\n",
       "      <td>S876</td>\n",
       "      <td>S88</td>\n",
       "      <td>1</td>\n",
       "      <td>1</td>\n",
       "      <td>0</td>\n",
       "      <td>1</td>\n",
       "    </tr>\n",
       "  </tbody>\n",
       "</table>\n",
       "</div>"
      ],
      "text/plain": [
       "    SN1   SN2  SN3  x1  x2  x3  x4\n",
       "0    S1  S333  S11   0   0   0   1\n",
       "1   S12   S54        0   0   0   1\n",
       "2   S65  S111  S99   1   1   1   1\n",
       "3  S102  S876  S44   1   0   0   1\n",
       "4  S101  S876  S88   1   1   0   1"
      ]
     },
     "execution_count": 177,
     "metadata": {},
     "output_type": "execute_result"
    }
   ],
   "source": [
    "data = {\n",
    "    'SN1': ['S1', 'S12', 'S65', 'S102', 'S101'],\n",
    "    'SN2': ['S333', 'S54', 'S111', 'S876', 'S876'],\n",
    "    'SN3': ['S11', '', 'S99', 'S44', 'S88'],\n",
    "    'x1': [0, 0, 1, 1, 1],\n",
    "    'x2': [0, 0, 1, 0, 1],\n",
    "    'x3': [0, 0, 1, 0, 0],\n",
    "    'x4': [1, 1, 1, 1, 1]\n",
    "}\n",
    "\n",
    "mmsta = pd.DataFrame(data)\n",
    "mmsta"
   ]
  },
  {
   "cell_type": "code",
   "execution_count": null,
   "metadata": {},
   "outputs": [],
   "source": [
    "import itertools\n",
    "import numpy as np\n",
    "\n",
    "def get_idx(df_wire,matching_rows):\n",
    "    indices_valides = []\n",
    "    for idx in df_wire.index:\n",
    "        target = df_wire.loc[idx, ['x1', 'x2', 'x3', 'x4']].values\n",
    "        for r in range(1, len(matching_rows) + 1):  \n",
    "            for indices in itertools.combinations(matching_rows.index, r):\n",
    "                pene = matching_rows.loc[list(indices)][['x1', 'x2', 'x3', 'x4']].values\n",
    "                sum_pene = np.sum(pene, axis=0)\n",
    "                if np.array_equal(sum_pene, target):\n",
    "                    indices_valides.append((df_wire.loc[idx,'Wire'],indices))\n",
    "\n",
    "    #print(\"Indices des lignes valides :\", indices_valides)\n",
    "    return indices_valides\n",
    "\n",
    "def check_duplicate():\n",
    "    duplicate_materials = ypp['SN'].value_counts()\n",
    "    duplicates = duplicate_materials[duplicate_materials > 1]\n",
    "    sn_duplicated = duplicates.index.tolist()\n",
    "    return sn_duplicated"
   ]
  },
  {
   "cell_type": "code",
   "execution_count": 179,
   "metadata": {},
   "outputs": [],
   "source": [
    "material_dict = []\n",
    "sn_duplicated = check_duplicate()\n",
    "for sn in sn_duplicated:\n",
    "    valeur_a_chercher = sn\n",
    "    colonnes_trouvees = [col for col in mmsta.columns if valeur_a_chercher in mmsta[col].values][0]\n",
    "    mmsta_filtred_by_sn =  mmsta[mmsta[colonnes_trouvees] == valeur_a_chercher]\n",
    "    ypp_filtred_by_sn = ypp[ypp['SN'] == sn]\n",
    "    indices_valides = get_idx(ypp[ypp['SN']== sn] ,mmsta[mmsta[colonnes_trouvees] == sn])\n",
    "    material_dict.extend(indices_valides)\n",
    "    #drop ypp_filtred_by_sn dans ypp\n",
    "    ypp = ypp[~ypp['SN'].isin(sn_duplicated)]\n",
    "\n",
    "sn_duplicated = check_duplicate()\n",
    "\n",
    "if len(sn_duplicated) == 0:\n",
    "    material_to_comp_dict = dict(zip(ypp['SN'], ypp['Wire']))\n",
    "    list(material_to_comp_dict.items())[:5]    "
   ]
  },
  {
   "cell_type": "code",
   "execution_count": 180,
   "metadata": {},
   "outputs": [
    {
     "data": {
      "text/plain": [
       "[('S88', 151), ('S99', 76), ('S110', 76), ('S44', 6)]"
      ]
     },
     "execution_count": 180,
     "metadata": {},
     "output_type": "execute_result"
    }
   ],
   "source": [
    "list(material_to_comp_dict.items())"
   ]
  },
  {
   "cell_type": "code",
   "execution_count": 181,
   "metadata": {},
   "outputs": [],
   "source": [
    "mmsta['Wire Internal Name'] = None\n",
    "for matching in material_dict:\n",
    "    mmsta.loc[list(matching[1]), 'Wire Internal Name'] = matching[0]"
   ]
  },
  {
   "cell_type": "code",
   "execution_count": 182,
   "metadata": {},
   "outputs": [],
   "source": [
    "idx_1 = mmsta[mmsta['Wire Internal Name'].isnull()].index\n",
    "mmsta.loc[idx_1, 'Wire Internal Name'] = mmsta.loc[idx_1, 'SN1'].map(material_to_comp_dict)"
   ]
  },
  {
   "cell_type": "code",
   "execution_count": 183,
   "metadata": {},
   "outputs": [],
   "source": [
    "idx_2 = mmsta[mmsta['Wire Internal Name'].isnull()].index\n",
    "mmsta.loc[idx_2, 'Wire Internal Name'] = mmsta.loc[idx_2, 'SN2'].map(material_to_comp_dict)"
   ]
  },
  {
   "cell_type": "code",
   "execution_count": 184,
   "metadata": {},
   "outputs": [],
   "source": [
    "idx_3 = mmsta[mmsta['Wire Internal Name'].isnull()].index\n",
    "mmsta.loc[idx_3, 'Wire Internal Name'] = mmsta.loc[idx_3, 'SN3'].map(material_to_comp_dict)"
   ]
  },
  {
   "cell_type": "code",
   "execution_count": 185,
   "metadata": {},
   "outputs": [
    {
     "data": {
      "application/vnd.microsoft.datawrangler.viewer.v0+json": {
       "columns": [
        {
         "name": "index",
         "rawType": "int64",
         "type": "integer"
        },
        {
         "name": "SN1",
         "rawType": "object",
         "type": "string"
        },
        {
         "name": "SN2",
         "rawType": "object",
         "type": "string"
        },
        {
         "name": "SN3",
         "rawType": "object",
         "type": "string"
        },
        {
         "name": "x1",
         "rawType": "int64",
         "type": "integer"
        },
        {
         "name": "x2",
         "rawType": "int64",
         "type": "integer"
        },
        {
         "name": "x3",
         "rawType": "int64",
         "type": "integer"
        },
        {
         "name": "x4",
         "rawType": "int64",
         "type": "integer"
        },
        {
         "name": "Wire Internal Name",
         "rawType": "object",
         "type": "unknown"
        }
       ],
       "conversionMethod": "pd.DataFrame",
       "ref": "0a0befdc-782d-4277-81a9-95ee4e020d22",
       "rows": [
        [
         "0",
         "S1",
         "S333",
         "S11",
         "0",
         "0",
         "0",
         "1",
         "151"
        ],
        [
         "1",
         "S12",
         "S54",
         "",
         "0",
         "0",
         "0",
         "1",
         null
        ],
        [
         "2",
         "S65",
         "S111",
         "S99",
         "1",
         "1",
         "1",
         "1",
         "76.0"
        ],
        [
         "3",
         "S102",
         "S876",
         "S44",
         "1",
         "0",
         "0",
         "1",
         "6.0"
        ],
        [
         "4",
         "S101",
         "S876",
         "S88",
         "1",
         "1",
         "0",
         "1",
         "151.0"
        ]
       ],
       "shape": {
        "columns": 8,
        "rows": 5
       }
      },
      "text/html": [
       "<div>\n",
       "<style scoped>\n",
       "    .dataframe tbody tr th:only-of-type {\n",
       "        vertical-align: middle;\n",
       "    }\n",
       "\n",
       "    .dataframe tbody tr th {\n",
       "        vertical-align: top;\n",
       "    }\n",
       "\n",
       "    .dataframe thead th {\n",
       "        text-align: right;\n",
       "    }\n",
       "</style>\n",
       "<table border=\"1\" class=\"dataframe\">\n",
       "  <thead>\n",
       "    <tr style=\"text-align: right;\">\n",
       "      <th></th>\n",
       "      <th>SN1</th>\n",
       "      <th>SN2</th>\n",
       "      <th>SN3</th>\n",
       "      <th>x1</th>\n",
       "      <th>x2</th>\n",
       "      <th>x3</th>\n",
       "      <th>x4</th>\n",
       "      <th>Wire Internal Name</th>\n",
       "    </tr>\n",
       "  </thead>\n",
       "  <tbody>\n",
       "    <tr>\n",
       "      <th>0</th>\n",
       "      <td>S1</td>\n",
       "      <td>S333</td>\n",
       "      <td>S11</td>\n",
       "      <td>0</td>\n",
       "      <td>0</td>\n",
       "      <td>0</td>\n",
       "      <td>1</td>\n",
       "      <td>151</td>\n",
       "    </tr>\n",
       "    <tr>\n",
       "      <th>1</th>\n",
       "      <td>S12</td>\n",
       "      <td>S54</td>\n",
       "      <td></td>\n",
       "      <td>0</td>\n",
       "      <td>0</td>\n",
       "      <td>0</td>\n",
       "      <td>1</td>\n",
       "      <td>NaN</td>\n",
       "    </tr>\n",
       "    <tr>\n",
       "      <th>2</th>\n",
       "      <td>S65</td>\n",
       "      <td>S111</td>\n",
       "      <td>S99</td>\n",
       "      <td>1</td>\n",
       "      <td>1</td>\n",
       "      <td>1</td>\n",
       "      <td>1</td>\n",
       "      <td>76.0</td>\n",
       "    </tr>\n",
       "    <tr>\n",
       "      <th>3</th>\n",
       "      <td>S102</td>\n",
       "      <td>S876</td>\n",
       "      <td>S44</td>\n",
       "      <td>1</td>\n",
       "      <td>0</td>\n",
       "      <td>0</td>\n",
       "      <td>1</td>\n",
       "      <td>6.0</td>\n",
       "    </tr>\n",
       "    <tr>\n",
       "      <th>4</th>\n",
       "      <td>S101</td>\n",
       "      <td>S876</td>\n",
       "      <td>S88</td>\n",
       "      <td>1</td>\n",
       "      <td>1</td>\n",
       "      <td>0</td>\n",
       "      <td>1</td>\n",
       "      <td>151.0</td>\n",
       "    </tr>\n",
       "  </tbody>\n",
       "</table>\n",
       "</div>"
      ],
      "text/plain": [
       "    SN1   SN2  SN3  x1  x2  x3  x4 Wire Internal Name\n",
       "0    S1  S333  S11   0   0   0   1                151\n",
       "1   S12   S54        0   0   0   1                NaN\n",
       "2   S65  S111  S99   1   1   1   1               76.0\n",
       "3  S102  S876  S44   1   0   0   1                6.0\n",
       "4  S101  S876  S88   1   1   0   1              151.0"
      ]
     },
     "execution_count": 185,
     "metadata": {},
     "output_type": "execute_result"
    }
   ],
   "source": [
    "mmsta"
   ]
  },
  {
   "cell_type": "code",
   "execution_count": null,
   "metadata": {},
   "outputs": [],
   "source": []
  }
 ],
 "metadata": {
  "kernelspec": {
   "display_name": "rpa_env",
   "language": "python",
   "name": "python3"
  },
  "language_info": {
   "codemirror_mode": {
    "name": "ipython",
    "version": 3
   },
   "file_extension": ".py",
   "mimetype": "text/x-python",
   "name": "python",
   "nbconvert_exporter": "python",
   "pygments_lexer": "ipython3",
   "version": "3.13.2"
  }
 },
 "nbformat": 4,
 "nbformat_minor": 2
}
